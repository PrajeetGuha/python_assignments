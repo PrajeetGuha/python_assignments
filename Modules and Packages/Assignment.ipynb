{
  "nbformat": 4,
  "nbformat_minor": 0,
  "metadata": {
    "colab": {
      "name": "Assignment.ipynb",
      "provenance": [],
      "collapsed_sections": [],
      "authorship_tag": "ABX9TyOPTOzqwJLcwJsi9CbNVsqz",
      "include_colab_link": true
    },
    "kernelspec": {
      "name": "python3",
      "display_name": "Python 3"
    }
  },
  "cells": [
    {
      "cell_type": "markdown",
      "metadata": {
        "id": "view-in-github",
        "colab_type": "text"
      },
      "source": [
        "<a href=\"https://colab.research.google.com/github/PrajeetGuha/python_assignments/blob/master/Modules%20and%20Packages/Assignment.ipynb\" target=\"_parent\"><img src=\"https://colab.research.google.com/assets/colab-badge.svg\" alt=\"Open In Colab\"/></a>"
      ]
    },
    {
      "cell_type": "markdown",
      "metadata": {
        "id": "L0Ii6qFuSYEn"
      },
      "source": [
        "**Assignment of Modules and Packages**"
      ]
    },
    {
      "cell_type": "markdown",
      "metadata": {
        "id": "enz1NhSoSpFi"
      },
      "source": [
        "Check whether a given year is leap year or not. Provide a range of years and display how many\r\n",
        "leap years are there."
      ]
    },
    {
      "cell_type": "code",
      "metadata": {
        "colab": {
          "base_uri": "https://localhost:8080/"
        },
        "id": "W0dQNU_mRlCs",
        "outputId": "7b7c8c5e-ad9a-43d0-dc98-1f85a6636c0f"
      },
      "source": [
        "import calendar as cld\r\n",
        "\r\n",
        "while 1:\r\n",
        "\r\n",
        "  try:\r\n",
        "\r\n",
        "    a,b = tuple(map(int,input('Enter range of year separated by (-):').strip().split('-')))\r\n",
        "    print('Leap years:')\r\n",
        "    for year in range(a,b+1):\r\n",
        "\r\n",
        "      if cld.isleap(year):\r\n",
        "        print(year)\r\n",
        "\r\n",
        "    break\r\n",
        "  except:\r\n",
        "    print('Wrong input. Try again.')"
      ],
      "execution_count": null,
      "outputs": [
        {
          "output_type": "stream",
          "text": [
            "Enter range of year separated by (-):1970-2000\n",
            "Leap years:\n",
            "1972\n",
            "1976\n",
            "1980\n",
            "1984\n",
            "1988\n",
            "1992\n",
            "1996\n",
            "2000\n"
          ],
          "name": "stdout"
        }
      ]
    },
    {
      "cell_type": "markdown",
      "metadata": {
        "id": "HiGXp-XnVT3a"
      },
      "source": [
        "Write a program which will print the month name and first Monday in a given year.\r\n",
        "import calendar"
      ]
    },
    {
      "cell_type": "code",
      "metadata": {
        "colab": {
          "base_uri": "https://localhost:8080/"
        },
        "id": "ATflTmSfULeY",
        "outputId": "e8cef2a6-6299-448a-f8b3-983d8ab01718"
      },
      "source": [
        "import calendar as cld\r\n",
        "\r\n",
        "while 1:\r\n",
        "  try:\r\n",
        "    a = int(input('Enter a year:'))\r\n",
        "    \r\n",
        "    d = 0\r\n",
        "    print('The first Mondays of each month are:')\r\n",
        "    for month in range(1,13):\r\n",
        "      for day in range(1,8):\r\n",
        "        if cld.weekday(a,month,day) == 0:\r\n",
        "          d = day\r\n",
        "          break\r\n",
        "\r\n",
        "      print(f'{d}/{month}/{a}')\r\n",
        "    break\r\n",
        "\r\n",
        "  except:\r\n",
        "    print('Wrong input.')"
      ],
      "execution_count": 2,
      "outputs": [
        {
          "output_type": "stream",
          "text": [
            "Enter a year:2000\n",
            "The first Mondays of each month are:\n",
            "3/1/2000\n",
            "7/2/2000\n",
            "6/3/2000\n",
            "3/4/2000\n",
            "1/5/2000\n",
            "5/6/2000\n",
            "3/7/2000\n",
            "7/8/2000\n",
            "4/9/2000\n",
            "2/10/2000\n",
            "6/11/2000\n",
            "4/12/2000\n"
          ],
          "name": "stdout"
        }
      ]
    },
    {
      "cell_type": "markdown",
      "metadata": {
        "id": "9Yl0wCSffKm-"
      },
      "source": [
        "Print the current date and time in the following format.\r\n",
        "year: 2018\r\n",
        "month: 12\r\n",
        "day: 24\r\n",
        "time: 04:59:31\r\n",
        "date and time: 12/ 24/ 2018, 04:59:31"
      ]
    },
    {
      "cell_type": "code",
      "metadata": {
        "colab": {
          "base_uri": "https://localhost:8080/"
        },
        "id": "R8Rg-AVhW5fm",
        "outputId": "d33afd9a-e58d-4706-905f-07e531f84c7c"
      },
      "source": [
        "import datetime as dt\r\n",
        "\r\n",
        "now = dt.datetime.now()\r\n",
        "print('Year:',now.strftime('%Y'))\r\n",
        "print('Month:',now.strftime('%m'))\r\n",
        "print('Day:',now.strftime('%d'))\r\n",
        "print('Time:',now.strftime('%H:%M:%S'))\r\n",
        "print('Date and Time:',now.strftime('%Y-%m-%d %H:%M:%S'))"
      ],
      "execution_count": null,
      "outputs": [
        {
          "output_type": "stream",
          "text": [
            "Year: 2021\n",
            "Month: 01\n",
            "Day: 07\n",
            "Time: 06:46:17\n",
            "Date and Time: 2021-01-07 06:46:17\n"
          ],
          "name": "stdout"
        }
      ]
    },
    {
      "cell_type": "markdown",
      "metadata": {
        "id": "9vig1gmXl2O3"
      },
      "source": [
        "Write a Python program importing random which outputs the frequency of occurrence of each\r\n",
        "faces for rolling a dice 6000 times."
      ]
    },
    {
      "cell_type": "code",
      "metadata": {
        "colab": {
          "base_uri": "https://localhost:8080/"
        },
        "id": "3QqJeVg7f1PV",
        "outputId": "e863dcb6-1ed5-4903-fb6d-69fdad029424"
      },
      "source": [
        "import random as rn\r\n",
        "import collections as cl\r\n",
        "\r\n",
        "faces =  range(1,7)\r\n",
        "freq = dict(cl.Counter(rn.choices(faces,k=6000)))\r\n",
        "\r\n",
        "for key in freq:\r\n",
        "  print(f'{key} comes {freq[key]} times')"
      ],
      "execution_count": null,
      "outputs": [
        {
          "output_type": "stream",
          "text": [
            "1 comes 951 times\n",
            "5 comes 1056 times\n",
            "4 comes 968 times\n",
            "2 comes 986 times\n",
            "3 comes 1020 times\n",
            "6 comes 1019 times\n"
          ],
          "name": "stdout"
        }
      ]
    }
  ]
}