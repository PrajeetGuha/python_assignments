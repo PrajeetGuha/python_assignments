{
 "cells": [
  {
   "cell_type": "markdown",
   "id": "synthetic-circus",
   "metadata": {},
   "source": [
    "# Set 2\n",
    "\n",
    "### Name:Prajeet Guha\n",
    "### Stream: CSE </br>Year: 2nd Year </br>Sem: 3rd\n",
    "### Roll: 28"
   ]
  },
  {
   "cell_type": "markdown",
   "id": "historical-merchandise",
   "metadata": {},
   "source": [
    "## Write a Python program to reverse words in a sentence."
   ]
  },
  {
   "cell_type": "code",
   "execution_count": 2,
   "id": "utility-adobe",
   "metadata": {},
   "outputs": [
    {
     "name": "stdin",
     "output_type": "stream",
     "text": [
      "Enter the sentence:  Hi This is Prajeet from CSE 2nd Year\n"
     ]
    },
    {
     "name": "stdout",
     "output_type": "stream",
     "text": [
      "Year 2nd CSE from Prajeet is This Hi\n"
     ]
    }
   ],
   "source": [
    "while 1:\n",
    "    \n",
    "    try:\n",
    "        \n",
    "        sentence = input('Enter the sentence:')\n",
    "        words = sentence.split()[::-1]\n",
    "        res = ' '.join(words)\n",
    "        print(res)\n",
    "        break\n",
    "        \n",
    "    except:\n",
    "        print('Try again.')"
   ]
  },
  {
   "cell_type": "markdown",
   "id": "adapted-blake",
   "metadata": {},
   "source": [
    "## Write a Python program to transpose a matrix."
   ]
  },
  {
   "cell_type": "code",
   "execution_count": 8,
   "id": "confident-bulgarian",
   "metadata": {},
   "outputs": [
    {
     "name": "stdin",
     "output_type": "stream",
     "text": [
      "Enter matrix:(element separated by space new row separated by ,) 6 5 4 2,1 2 3 4,5 7 8 9\n"
     ]
    },
    {
     "name": "stdout",
     "output_type": "stream",
     "text": [
      "Untransposed matrix:\n",
      "6 5 4 2\n",
      "1 2 3 4\n",
      "5 7 8 9\n",
      "\n",
      "The transposed matrix:\n",
      "6 1 5\n",
      "5 2 7\n",
      "4 3 8\n",
      "2 4 9\n"
     ]
    }
   ],
   "source": [
    "while 1:\n",
    "    \n",
    "    try:\n",
    "        sen = input('Enter matrix:(element separated by space new row separated by ,)').split(',')\n",
    "        print('Untransposed matrix:')\n",
    "        for row in sen:\n",
    "            print(row)\n",
    "        res = []\n",
    "\n",
    "        for _ in range(len(sen[0].split())):\n",
    "            res.append([])\n",
    "    \n",
    "        for row in sen:\n",
    "            e = row.split()\n",
    "            for i in range(len(e)):\n",
    "                res[i].append(e[i])\n",
    "        \n",
    "        result = []\n",
    "        for row in res:\n",
    "            result.append(' '.join(row))\n",
    "        \n",
    "        print('\\nThe transposed matrix:')\n",
    "        for row in result:\n",
    "            print(row)\n",
    "        break\n",
    "        \n",
    "    except:\n",
    "        print('Try again')"
   ]
  },
  {
   "cell_type": "markdown",
   "id": "single-scroll",
   "metadata": {},
   "source": [
    "## Write a Python program using function which accepts n as input and returns the average from 1 to n, calculates median and mode."
   ]
  },
  {
   "cell_type": "code",
   "execution_count": 4,
   "id": "tight-machinery",
   "metadata": {},
   "outputs": [
    {
     "name": "stdin",
     "output_type": "stream",
     "text": [
      "Enter n numbers separated by space: 3 5 6 6 1 4 9 10 15 46 23 11\n"
     ]
    },
    {
     "name": "stdout",
     "output_type": "stream",
     "text": [
      "Mean:11.583333333333334\n",
      "Median:9.5\n",
      "Mode:6\n"
     ]
    }
   ],
   "source": [
    "while 1:\n",
    "    \n",
    "    try:\n",
    "        \n",
    "        n = list(map(int,input('Enter n numbers separated by space:').split()))\n",
    "        mean = sum(n)/len(n)\n",
    "        n.sort()\n",
    "        if len(n)%2 == 0:\n",
    "            median = (n[int(len(n)/2)] + n[int((len(n)/2) + 1)])/2\n",
    "        else:\n",
    "            median = n[(int(len(n)+1)/2)]\n",
    "        \n",
    "        max = 0\n",
    "        mode = []\n",
    "        for i in set(n):\n",
    "            if n.count(i) > max:\n",
    "                max = n.count(i)\n",
    "                mode = str(i)\n",
    "            elif n.count(i) == max:\n",
    "                mode += (' '+str(i))\n",
    "            else:\n",
    "                pass\n",
    "              \n",
    "        print(f'Mean:{mean}\\nMedian:{median}\\nMode:{mode}')\n",
    "        break\n",
    "        \n",
    "    except:\n",
    "        print('Try again.')"
   ]
  }
 ],
 "metadata": {
  "kernelspec": {
   "display_name": "Python 3",
   "language": "python",
   "name": "python3"
  },
  "language_info": {
   "codemirror_mode": {
    "name": "ipython",
    "version": 3
   },
   "file_extension": ".py",
   "mimetype": "text/x-python",
   "name": "python",
   "nbconvert_exporter": "python",
   "pygments_lexer": "ipython3",
   "version": "3.9.0"
  }
 },
 "nbformat": 4,
 "nbformat_minor": 5
}
