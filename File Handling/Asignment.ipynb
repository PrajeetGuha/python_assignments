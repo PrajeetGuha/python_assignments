{
 "cells": [
  {
   "cell_type": "markdown",
   "metadata": {},
   "source": [
    "# Assignment on File Handling"
   ]
  },
  {
   "cell_type": "markdown",
   "metadata": {},
   "source": [
    "### Write a file. Read the file and print its content. Read first two lines. Read first 5 characters. Read the file using loop."
   ]
  },
  {
   "cell_type": "code",
   "execution_count": 16,
   "metadata": {},
   "outputs": [
    {
     "name": "stdout",
     "output_type": "stream",
     "text": [
      "The whole document:\n",
      "\n",
      " Hello this is the first test file that contains some information\n",
      "This is the first line: Hello I am Prajeet\n",
      "I am a student of CSE\n",
      "2nd Year\n",
      "of St. Thomas College of Engineering\n",
      "\n",
      "\n",
      "The first 2 lines:\n",
      "\n",
      "\n",
      "Hello this is the first test file that contains some information\n",
      "\n",
      "This is the first line: Hello I am Prajeet\n",
      "\n",
      "\n",
      "\n",
      "The first 5 characters:\n",
      "\n",
      "\n",
      "Hello\n",
      "\n",
      "\n",
      "The file reading using loop:\n",
      "\n",
      "\n",
      "Hello this is the first test file that contains some information\n",
      "\n",
      "This is the first line: Hello I am Prajeet\n",
      "\n",
      "I am a student of CSE\n",
      "\n",
      "2nd Year\n",
      "\n",
      "of St. Thomas College of Engineering\n"
     ]
    }
   ],
   "source": [
    "# A file named textfile1.txt is created in the textfiles folder\n",
    "\n",
    "try:\n",
    "    with open('textfiles/textfile1.txt','r') as f:\n",
    "\n",
    "        print('The whole document:\\n\\n',f.read())\n",
    "\n",
    "        print('\\n\\nThe first 2 lines:\\n\\n')\n",
    "        f.seek(0)\n",
    "        print(f.readline())\n",
    "        print(f.readline())\n",
    "\n",
    "        print('\\n\\nThe first 5 characters:\\n\\n')\n",
    "        f.seek(0)\n",
    "        print(f.read(5))\n",
    "\n",
    "        print('\\n\\nThe file reading using loop:\\n\\n')\n",
    "        f.seek(0)\n",
    "        for l in f:\n",
    "            print(l)\n",
    "            \n",
    "except:\n",
    "    \n",
    "    print('A error occured.')"
   ]
  },
  {
   "cell_type": "markdown",
   "metadata": {},
   "source": [
    "### Append content in the above mentioned file."
   ]
  },
  {
   "cell_type": "code",
   "execution_count": 19,
   "metadata": {},
   "outputs": [
    {
     "name": "stdout",
     "output_type": "stream",
     "text": [
      "Hello this is the first test file that contains some information\n",
      "This is the first line: Hello I am Prajeet\n",
      "I am a student of CSE\n",
      "2nd Year\n",
      "of St. Thomas College of Engineering\n",
      "This sentence has been appended.\n"
     ]
    }
   ],
   "source": [
    "try:\n",
    "    \n",
    "    with open('textfiles/textfile1.txt','a') as f:\n",
    "        \n",
    "        f.write('\\nThis sentence has been appended.')\n",
    "        \n",
    "    with open('textfiles/textfile1.txt','r') as f:\n",
    "        \n",
    "        print(f.read())\n",
    "        \n",
    "except:\n",
    "    \n",
    "    print('An error occured.')"
   ]
  },
  {
   "cell_type": "markdown",
   "metadata": {},
   "source": [
    "### Check whether a file exists or not. Delete it."
   ]
  },
  {
   "cell_type": "code",
   "execution_count": 22,
   "metadata": {},
   "outputs": [
    {
     "name": "stdout",
     "output_type": "stream",
     "text": [
      "File present.\n"
     ]
    }
   ],
   "source": [
    "import os\n",
    "\n",
    "if os.path.exists('textfiles/textfile2.txt'):\n",
    "    os.remove('textfiles/textfile2.txt')\n",
    "    print('File present.')\n",
    "    \n",
    "else:\n",
    "    print('The file is not present.')"
   ]
  },
  {
   "cell_type": "code",
   "execution_count": 23,
   "metadata": {},
   "outputs": [
    {
     "name": "stdout",
     "output_type": "stream",
     "text": [
      "The file is not present.\n"
     ]
    }
   ],
   "source": [
    "import os\n",
    "\n",
    "if os.path.exists('textfiles/textfile2.txt'):\n",
    "    os.remove('textfiles/textfile2.txt')\n",
    "    print('File present.')\n",
    "    \n",
    "else:\n",
    "    print('The file is not present.')"
   ]
  },
  {
   "cell_type": "markdown",
   "metadata": {},
   "source": [
    "### Print the words written in the first line of a file. Access each word using a loop."
   ]
  },
  {
   "cell_type": "code",
   "execution_count": 25,
   "metadata": {},
   "outputs": [
    {
     "name": "stdout",
     "output_type": "stream",
     "text": [
      "Hello\n",
      "this\n",
      "is\n",
      "the\n",
      "third\n",
      "test\n",
      "file\n",
      "that\n",
      "contains\n",
      "some\n",
      "information\n"
     ]
    }
   ],
   "source": [
    "# A file named textfile3.txt is created in the textfiles folder\n",
    "\n",
    "try:\n",
    "\n",
    "    with open('textfiles/textfile3.txt','r') as f:\n",
    "    \n",
    "        for c in f.readline().split():\n",
    "            print(c)\n",
    "            \n",
    "except:\n",
    "    \n",
    "    print('Error occured.')"
   ]
  },
  {
   "cell_type": "markdown",
   "metadata": {},
   "source": [
    "### Count the number of lines in a file."
   ]
  },
  {
   "cell_type": "code",
   "execution_count": 26,
   "metadata": {},
   "outputs": [
    {
     "name": "stdout",
     "output_type": "stream",
     "text": [
      "5\n"
     ]
    }
   ],
   "source": [
    "try:\n",
    "    \n",
    "    with open('textfiles/textfile3.txt','r') as f:\n",
    "        \n",
    "        print(len(f.readlines()))\n",
    "        \n",
    "except:\n",
    "    \n",
    "    print('Error occured.')"
   ]
  },
  {
   "cell_type": "markdown",
   "metadata": {},
   "source": [
    "### Count the number of words in a file."
   ]
  },
  {
   "cell_type": "code",
   "execution_count": 28,
   "metadata": {},
   "outputs": [
    {
     "name": "stdout",
     "output_type": "stream",
     "text": [
      "35\n"
     ]
    }
   ],
   "source": [
    "try:\n",
    "    \n",
    "    with open('textfiles/textfile3.txt','r') as f:\n",
    "        \n",
    "        count = 0\n",
    "        \n",
    "        for l in f.readlines():\n",
    "            \n",
    "            count += len(l.split())\n",
    "            \n",
    "        print(count)\n",
    "        \n",
    "except:\n",
    "    \n",
    "    print('Error occured.')"
   ]
  },
  {
   "cell_type": "markdown",
   "metadata": {},
   "source": [
    "### Find the maximum length words in a file."
   ]
  },
  {
   "cell_type": "code",
   "execution_count": 34,
   "metadata": {},
   "outputs": [
    {
     "name": "stdout",
     "output_type": "stream",
     "text": [
      "information\n",
      "Engineering\n"
     ]
    }
   ],
   "source": [
    "#NOTE: no special characters are in the textfile4.txt that is created\n",
    "\n",
    "try:\n",
    "    \n",
    "    with open('textfiles/textfile4.txt','r') as f:\n",
    "        \n",
    "        words = []\n",
    "        lines = f.read().split('\\n')\n",
    "        \n",
    "        for line in lines:\n",
    "            words += line.split()\n",
    "            \n",
    "        max = max([len(w) for w in words])\n",
    "        \n",
    "        for w in words:\n",
    "            if len(w) == max:\n",
    "                print(w)\n",
    "                \n",
    "except:\n",
    "    \n",
    "    print('Error occured')"
   ]
  },
  {
   "cell_type": "markdown",
   "metadata": {},
   "source": [
    "### Write a program in Python that reads the text from a file and writes it into another file but in reverse order."
   ]
  },
  {
   "cell_type": "code",
   "execution_count": 53,
   "metadata": {},
   "outputs": [],
   "source": [
    "#textfile5.txt is made\n",
    "\n",
    "try:\n",
    "    lines = ''\n",
    "    with open('textfiles/textfile5.txt') as f:\n",
    "    \n",
    "        lines = f.read()[::-1]\n",
    "        \n",
    "    with open('textfiles/5eliftxet.txt','w') as f:\n",
    "        \n",
    "        f.write(lines)\n",
    "        \n",
    "except:\n",
    "    \n",
    "    print('Error occured')\n",
    "    \n",
    "#5eliftxet.txt is created"
   ]
  },
  {
   "cell_type": "markdown",
   "metadata": {},
   "source": [
    "### Write a program in Python to compare two files."
   ]
  },
  {
   "cell_type": "code",
   "execution_count": 60,
   "metadata": {},
   "outputs": [
    {
     "name": "stdout",
     "output_type": "stream",
     "text": [
      "True\n",
      "False\n"
     ]
    }
   ],
   "source": [
    "import filecmp\n",
    "\n",
    "# contents of filecmp1 and filecmp2 are same\n",
    "try:\n",
    "    \n",
    "    print(filecmp.cmp('textfiles/filecmp1.txt','textfiles/filecmp2.txt'))\n",
    "    \n",
    "except:\n",
    "    print('Error occured')\n",
    "    \n",
    "#contents of filecmp3 and filecmp4 are different\n",
    "try:\n",
    "    \n",
    "    print(filecmp.cmp('textfiles/filecmp3.txt','textfiles/filecmp4.txt'))\n",
    "    \n",
    "except:\n",
    "    print('Error occured')"
   ]
  },
  {
   "cell_type": "markdown",
   "metadata": {},
   "source": [
    "### Write a program in Python to copy the content of one file into another character by character."
   ]
  },
  {
   "cell_type": "code",
   "execution_count": 99,
   "metadata": {},
   "outputs": [],
   "source": [
    "#textfile6.txt is made\n",
    "\n",
    "try:\n",
    "    \n",
    "    f1 = open('textfiles/textfile6.txt','r')\n",
    "    f2 = open('textfiles/rewrite_textfile6.txt','w')\n",
    "\n",
    "    for c in f1:\n",
    "        lst = list(c)\n",
    "        for i in lst:\n",
    "            f2.write(i)\n",
    "\n",
    "    f1.close()\n",
    "    f2.close()\n",
    "except:\n",
    "    print('Error occured')\n",
    "    \n",
    "#rewrite_textfile6.txt is created"
   ]
  },
  {
   "cell_type": "markdown",
   "metadata": {},
   "source": [
    "### Write a program in Python which converts the case of one file into another."
   ]
  },
  {
   "cell_type": "code",
   "execution_count": 101,
   "metadata": {},
   "outputs": [],
   "source": [
    "#textfile7.txt is made\n",
    "\n",
    "try:\n",
    "    \n",
    "    f1 = open('textfiles/textfile7.txt','r')\n",
    "    f2 = open('textfiles/rewrite_textfile7.txt','w')\n",
    "\n",
    "    for j in f1:\n",
    "        \n",
    "        lst = list(j)\n",
    "        for c in lst:\n",
    "            if c.islower():\n",
    "                f2.write(c.upper())\n",
    "            elif c.isupper():\n",
    "                f2.write(c.lower())\n",
    "            else:\n",
    "                f2.write(c)\n",
    "\n",
    "    f1.close()\n",
    "    f2.close()\n",
    "except:\n",
    "    print('Error occured')\n",
    "    \n",
    "#rewrite_textfile7.txt is created"
   ]
  },
  {
   "cell_type": "markdown",
   "metadata": {},
   "source": [
    "### Write a program in Python to merge the content of two files (one after another)."
   ]
  },
  {
   "cell_type": "code",
   "execution_count": 4,
   "metadata": {},
   "outputs": [],
   "source": [
    "#textfile8.txt and textfile9.txt is made\n",
    "\n",
    "try:\n",
    "    \n",
    "    f1 = open('textfiles/textfile8.txt','r')\n",
    "    f2 = open('textfiles/textfile9.txt','r')\n",
    "    f3 = open('textfiles/textfile_merge.txt','a')\n",
    "\n",
    "    f3.write(f1.read())\n",
    "    f3.write(f2.read())\n",
    "\n",
    "    f1.close()\n",
    "    f2.close()\n",
    "    f3.close()\n",
    "except:\n",
    "    print('Error occured')\n",
    "    \n",
    "#textfile_merge.txt is created"
   ]
  }
 ],
 "metadata": {
  "kernelspec": {
   "display_name": "Python 3",
   "language": "python",
   "name": "python3"
  },
  "language_info": {
   "codemirror_mode": {
    "name": "ipython",
    "version": 3
   },
   "file_extension": ".py",
   "mimetype": "text/x-python",
   "name": "python",
   "nbconvert_exporter": "python",
   "pygments_lexer": "ipython3",
   "version": "3.9.0"
  }
 },
 "nbformat": 4,
 "nbformat_minor": 4
}
