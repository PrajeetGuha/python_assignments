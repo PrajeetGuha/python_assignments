{
  "nbformat": 4,
  "nbformat_minor": 0,
  "metadata": {
    "colab": {
      "name": "Assignment.ipynb",
      "provenance": [],
      "authorship_tag": "ABX9TyOe2s6ssRQerRFS7RxvpAFD",
      "include_colab_link": true
    },
    "kernelspec": {
      "name": "python3",
      "display_name": "Python 3"
    }
  },
  "cells": [
    {
      "cell_type": "markdown",
      "metadata": {
        "id": "view-in-github",
        "colab_type": "text"
      },
      "source": [
        "<a href=\"https://colab.research.google.com/github/PrajeetGuha/python_assignments/blob/master/Modules%20and%20Packages%202/Assignment.ipynb\" target=\"_parent\"><img src=\"https://colab.research.google.com/assets/colab-badge.svg\" alt=\"Open In Colab\"/></a>"
      ]
    },
    {
      "cell_type": "markdown",
      "metadata": {
        "id": "S3W3vLASR39s"
      },
      "source": [
        "**Import datetime module and print current date and time.**"
      ]
    },
    {
      "cell_type": "code",
      "metadata": {
        "colab": {
          "base_uri": "https://localhost:8080/"
        },
        "id": "wIWrOb4ZRci2",
        "outputId": "d101fb36-68f2-4801-ffbf-c6fda9b93b9c"
      },
      "source": [
        "import datetime as dt\r\n",
        "\r\n",
        "print(dt.datetime.now())"
      ],
      "execution_count": 1,
      "outputs": [
        {
          "output_type": "stream",
          "text": [
            "2021-01-14 05:05:48.326415\n"
          ],
          "name": "stdout"
        }
      ]
    },
    {
      "cell_type": "markdown",
      "metadata": {
        "id": "awPWjmm7SZJd"
      },
      "source": [
        "**Print a month by importing calendar module.**"
      ]
    },
    {
      "cell_type": "code",
      "metadata": {
        "colab": {
          "base_uri": "https://localhost:8080/"
        },
        "id": "BL5Is2iKSRcy",
        "outputId": "bc353c96-74e3-48f7-c0ce-bebe1b93d3ca"
      },
      "source": [
        "import calendar as cld\r\n",
        "import datetime as dt\r\n",
        "\r\n",
        "while 1:\r\n",
        "\r\n",
        "  try:\r\n",
        "    y = int(input('Enter year:'))\r\n",
        "    m = dt.datetime.strptime(input('Enter month name:').title(),'%B').month\r\n",
        "\r\n",
        "    print(cld.month(y,m))\r\n",
        "    break\r\n",
        "\r\n",
        "  except:\r\n",
        "    print('Try again.')"
      ],
      "execution_count": 7,
      "outputs": [
        {
          "output_type": "stream",
          "text": [
            "Enter year:1989\n",
            "Enter month name:december\n",
            "   December 1989\n",
            "Mo Tu We Th Fr Sa Su\n",
            "             1  2  3\n",
            " 4  5  6  7  8  9 10\n",
            "11 12 13 14 15 16 17\n",
            "18 19 20 21 22 23 24\n",
            "25 26 27 28 29 30 31\n",
            "\n"
          ],
          "name": "stdout"
        }
      ]
    },
    {
      "cell_type": "markdown",
      "metadata": {
        "id": "XR_sP02jU6MZ"
      },
      "source": [
        "**Print the month names of calendar.**"
      ]
    },
    {
      "cell_type": "code",
      "metadata": {
        "colab": {
          "base_uri": "https://localhost:8080/"
        },
        "id": "mxhKdDCaUKYV",
        "outputId": "975726a7-e598-402e-e29c-666c4966ffee"
      },
      "source": [
        "import calendar as cld\r\n",
        "\r\n",
        "for i in range(1,13):\r\n",
        "  print(cld.month_name[i],end='     ')"
      ],
      "execution_count": 6,
      "outputs": [
        {
          "output_type": "stream",
          "text": [
            "January     February     March     April     May     June     July     August     September     October     November     December     "
          ],
          "name": "stdout"
        }
      ]
    },
    {
      "cell_type": "markdown",
      "metadata": {
        "id": "YLfLpBf9Zolg"
      },
      "source": [
        "**Print the name of days in a week.**"
      ]
    },
    {
      "cell_type": "code",
      "metadata": {
        "colab": {
          "base_uri": "https://localhost:8080/"
        },
        "id": "2YdNNegbVrna",
        "outputId": "721ad194-48b0-4a2d-e75a-86c430205cea"
      },
      "source": [
        "import calendar as cld\r\n",
        "\r\n",
        "for i in range(7):\r\n",
        "  print(cld.day_name[i],end='     ')"
      ],
      "execution_count": 9,
      "outputs": [
        {
          "output_type": "stream",
          "text": [
            "Monday     Tuesday     Wednesday     Thursday     Friday     Saturday     Sunday     "
          ],
          "name": "stdout"
        }
      ]
    },
    {
      "cell_type": "markdown",
      "metadata": {
        "id": "Zs_PlvIGaBEd"
      },
      "source": [
        "**Write a program which will print the month name and first Monday in a given year.**"
      ]
    },
    {
      "cell_type": "code",
      "metadata": {
        "colab": {
          "base_uri": "https://localhost:8080/"
        },
        "id": "98YRjrpJZYPb",
        "outputId": "6ddcf87d-af69-47e8-af8b-22d8ddbfd260"
      },
      "source": [
        "while 1:\r\n",
        "\r\n",
        "  try:\r\n",
        "    y = int(input('Enter year:'))\r\n",
        "    \r\n",
        "    print(f'Mondays of the year {y}:')\r\n",
        "    for m in range(1,13):\r\n",
        "      for d in range(1,8):\r\n",
        "\r\n",
        "        if cld.weekday(y,m,d) == 0:\r\n",
        "          print(f'{cld.month_name[m]}: {d}')\r\n",
        "\r\n",
        "    break\r\n",
        "\r\n",
        "  except:\r\n",
        "    print('Try again.')"
      ],
      "execution_count": 11,
      "outputs": [
        {
          "output_type": "stream",
          "text": [
            "Enter year:1989\n",
            "Mondays of the year 1989:\n",
            "January: 2\n",
            "February: 6\n",
            "March: 6\n",
            "April: 3\n",
            "May: 1\n",
            "June: 5\n",
            "July: 3\n",
            "August: 7\n",
            "September: 4\n",
            "October: 2\n",
            "November: 6\n",
            "December: 4\n"
          ],
          "name": "stdout"
        }
      ]
    },
    {
      "cell_type": "markdown",
      "metadata": {
        "id": "qpRgKAMpbucU"
      },
      "source": [
        "**Create a module which contains the functions as stated below. <br/>**\r\n",
        "a) F(x,y)=F(x-y,y)+1, if y ≤ x <br/>\r\n",
        "b) F(n,r)=F(n-1,r)+F(n-1,r-1) <br/>\r\n",
        "c) F(n)=F(n/2)+1 if n>1 <br/>\r\n",
        "d) F(M,N)=1 if M=0, or M ≥N ≥1, and F(M,N)=F(M-1,N)+F(M-1,N-1), otherwise. <br/>\r\n",
        "e) B(m,x)=m!/(x!(m-x)!) where m>x, <br/>\r\n",
        "B(0,0)=B(m,0)=1 and B(m,x)=B(m,x-1)*[(m-x+1)/x] <br/><br/><br/>\r\n",
        "\r\n",
        "Module named modular_assignment.py is created. The module is accessed using test.py."
      ]
    },
    {
      "cell_type": "markdown",
      "metadata": {
        "id": "fBDJQZ4uc2pD"
      },
      "source": [
        "**What is pip?**\r\n",
        "\r\n",
        "Pip is a tool that is used to manage and install additional packages or dependencies of python which are not part of standard Python library packages.<br/>\r\n",
        "\r\n",
        "**How to check whether pip is installed or not?**\r\n",
        "\r\n",
        "To check if pip is installed or not, we need to open the command prompt and write pip and press enter. If pip is installed then it will show the version of pip else it will show \"pip is not recognized as an internal command\" in red color.\r\n",
        "<br/>\r\n",
        "\r\n",
        "**How do you check which packages of Python are installed?**\r\n",
        "\r\n",
        "To check the packages installed in your environment, open command prompt and type pip list (taken into considersation pip is installed) and press enter. This will list all python packages with there versions."
      ]
    }
  ]
}