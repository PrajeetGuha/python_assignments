{
 "cells": [
  {
   "cell_type": "markdown",
   "metadata": {},
   "source": [
    "# Assignment of Dictionaries"
   ]
  },
  {
   "cell_type": "markdown",
   "metadata": {},
   "source": [
    "### 1. Write a program to print the maximum and minimum value in a dictionary."
   ]
  },
  {
   "cell_type": "code",
   "execution_count": 1,
   "metadata": {},
   "outputs": [
    {
     "name": "stdout",
     "output_type": "stream",
     "text": [
      "Enter key and value separated by commas (key:value{int})\n",
      "(NOTE:Don't repeat any element):1:3,4:7,1:2\n",
      "Input provided is wrong.\n",
      "Enter key and value separated by commas (key:value{int})\n",
      "(NOTE:Don't repeat any element):1:5,5:3,6:2\n",
      "Max value:5\n",
      "Min value:2\n"
     ]
    }
   ],
   "source": [
    "while(1):\n",
    "    try:    \n",
    "        items = input('Enter key and value separated by commas (key:value{int})\\n(NOTE:Don\\'t repeat any element):').split(',')\n",
    "        d = {}\n",
    "        for item in items:\n",
    "            key,value = item.split(':')\n",
    "            value = int(value)\n",
    "\n",
    "            if key not in d.keys():\n",
    "                d[key] = value\n",
    "            else:\n",
    "                raise()\n",
    "\n",
    "        print(f\"Max value:{max(d.values())}\")\n",
    "        print(f\"Min value:{min(d.values())}\")\n",
    "        break\n",
    "\n",
    "    except:\n",
    "        print('Input provided is wrong.')"
   ]
  },
  {
   "cell_type": "markdown",
   "metadata": {},
   "source": [
    "### 2.Write a program to store student's data (name,class,subjects). Remove duplicate entries."
   ]
  },
  {
   "cell_type": "code",
   "execution_count": 3,
   "metadata": {},
   "outputs": [
    {
     "name": "stdout",
     "output_type": "stream",
     "text": [
      "Enter name,class,subjects separated by commas. New set should be separated by semicolon(;):Aditya Palas,3,Chemistry,History;ShinChan,4,Japanese;Aditya Palas,3,History,Chemistry\n",
      "Duplicate entry.\n",
      "{1: ['Aditya Palas', '3', ['Chemistry', 'History']], 2: ['ShinChan', '4', ['Japanese']]}\n"
     ]
    }
   ],
   "source": [
    "while(1):\n",
    "    try:    \n",
    "        items = input('Enter name,class,subjects separated by commas. New set should be separated by semicolon(;):').split(';')\n",
    "        d = {}\n",
    "        i = 1\n",
    "        for item in items:\n",
    "            s = item.split(',')\n",
    "            lst = [s[0],s[1],sorted(s[2:])]\n",
    "            \n",
    "            if lst not in d.values():\n",
    "                d[i] = lst\n",
    "                i += 1\n",
    "            else:\n",
    "                print('Duplicate entry.')\n",
    "                \n",
    "        print(d)\n",
    "        break\n",
    "\n",
    "    except:\n",
    "        print('Input provided is wrong.')"
   ]
  },
  {
   "cell_type": "markdown",
   "metadata": {},
   "source": [
    "### 3.Write a program to concatenate dictionaries using loops"
   ]
  },
  {
   "cell_type": "code",
   "execution_count": 2,
   "metadata": {},
   "outputs": [
    {
     "name": "stdout",
     "output_type": "stream",
     "text": [
      "Enter number of dictionaries:2\n",
      "Enter key and value separated by commas:\n",
      "1:3,5;2:0,1;0:1;1:5\n",
      "Enter key and value separated by commas:\n",
      "0:2,3\n",
      "{'1': ['3', '5', '5'], '2': ['0', '1'], '0': ['1', '2', '3']}\n"
     ]
    }
   ],
   "source": [
    "while(1):\n",
    "    try: \n",
    "        n = int(input('Enter number of dictionaries:'))\n",
    "        tot = []\n",
    "        for i in range(n):\n",
    "            items = input('Enter key and value separated by commas:\\n').split(';')\n",
    "            d = {}\n",
    "            for item in items:\n",
    "                key,value = item.split(':')\n",
    "                value = value.split(',')\n",
    "\n",
    "                if d.get(key) == None:\n",
    "                    d[key] = value\n",
    "                else:\n",
    "                    d[key] += value\n",
    "            \n",
    "            tot.append(d)\n",
    "            \n",
    "        dict_t = {}\n",
    "        for d in tot:\n",
    "            \n",
    "            for key in d:\n",
    "                \n",
    "                if dict_t.get(key) == None:\n",
    "                    dict_t[key] = d[key]\n",
    "                else:\n",
    "                    dict_t[key] += d[key]\n",
    "        \n",
    "        print(dict_t)\n",
    "            \n",
    "        break\n",
    "\n",
    "    except:\n",
    "        print('Input provided is wrong.')"
   ]
  },
  {
   "cell_type": "markdown",
   "metadata": {},
   "source": [
    "### 4.Write a program to multiply all the items in a dictionary"
   ]
  },
  {
   "cell_type": "code",
   "execution_count": 3,
   "metadata": {},
   "outputs": [
    {
     "name": "stdout",
     "output_type": "stream",
     "text": [
      "Enter key and value separated by commas (key:value{int})\n",
      "(NOTE:Don't repeat any element):1:2,alpha:4,2:5,13:90\n",
      "Product value: 3600\n"
     ]
    }
   ],
   "source": [
    "while(1):\n",
    "    try:    \n",
    "        items = input('Enter key and value separated by commas (key:value{int})\\n(NOTE:Don\\'t repeat any element):').split(',')\n",
    "        d = {}\n",
    "        for item in items:\n",
    "            key,value = item.split(':')\n",
    "            value = int(value)\n",
    "\n",
    "            if key not in d.keys():\n",
    "                d[key] = value\n",
    "            else:\n",
    "                raise()\n",
    "        \n",
    "        m = 1\n",
    "        for i in d.values():\n",
    "            m *= i\n",
    "            \n",
    "        print('Product value:',m)\n",
    "        break\n",
    "\n",
    "    except:\n",
    "        print('Input provided is wrong.')"
   ]
  },
  {
   "cell_type": "markdown",
   "metadata": {},
   "source": [
    "### 5.Write a program to sort the keys of a dictionary"
   ]
  },
  {
   "cell_type": "code",
   "execution_count": 6,
   "metadata": {},
   "outputs": [
    {
     "name": "stdout",
     "output_type": "stream",
     "text": [
      "Enter key and value separated by commas:\n",
      "1:3,5;2:0,1;0:1;1:5\n",
      "{'0': ['1'], '1': ['3', '5', '5'], '2': ['0', '1']}\n"
     ]
    }
   ],
   "source": [
    "while(1):\n",
    "    try: \n",
    "        items = input('Enter key and value separated by commas:\\n').split(';')\n",
    "        d = {}\n",
    "        for item in items:\n",
    "            key,value = item.split(':')\n",
    "            value = value.split(',')\n",
    "\n",
    "            if d.get(key) == None:\n",
    "                d[key] = value\n",
    "            else:\n",
    "                d[key] += value\n",
    "            \n",
    "        s = sorted(d)\n",
    "        sorted_d = {}\n",
    "        for key in s:\n",
    "            sorted_d[key] = d[key]\n",
    "        print(sorted_d)\n",
    "            \n",
    "        break\n",
    "\n",
    "    except:\n",
    "        print('Input provided is wrong.')"
   ]
  },
  {
   "cell_type": "markdown",
   "metadata": {},
   "source": [
    "### 6.Write a program to check if a dictionary is empty or not."
   ]
  },
  {
   "cell_type": "code",
   "execution_count": 9,
   "metadata": {},
   "outputs": [
    {
     "name": "stdout",
     "output_type": "stream",
     "text": [
      "Dictionary is empty.\n"
     ]
    }
   ],
   "source": [
    "d = {}\n",
    "if not d:\n",
    "    print('Dictionary is empty.')\n",
    "else:\n",
    "    print('Dictionary is not empty.')"
   ]
  },
  {
   "cell_type": "markdown",
   "metadata": {},
   "source": [
    "### 7.Write a Python program which creates two dictionaries. One that stores conversion values from meters to centimeters and the other that stores the reverse."
   ]
  },
  {
   "cell_type": "code",
   "execution_count": 10,
   "metadata": {},
   "outputs": [
    {
     "name": "stdout",
     "output_type": "stream",
     "text": [
      "Giving values as m/cm?m\n",
      "Enter values separated by space:1 5 23 45 1 67 100 450\n",
      "m->cm: {1: 100, 5: 500, 23: 2300, 45: 4500, 67: 6700, 100: 10000, 450: 45000}\n",
      "cm->m: {100: 1, 500: 5, 2300: 23, 4500: 45, 6700: 67, 10000: 100, 45000: 450}\n"
     ]
    }
   ],
   "source": [
    "while(1):\n",
    "    try:    \n",
    "        \n",
    "        unit = input('Giving values as m/cm?')\n",
    "        s = list(map(int,input('Enter values separated by space:').split()))\n",
    "        \n",
    "        if unit == 'cm':\n",
    "            conv = [i/100 for i in s]\n",
    "        elif unit == 'm':\n",
    "            conv = [i*100 for i in s]\n",
    "        else:\n",
    "            raise()\n",
    "            \n",
    "        dict1 = {}\n",
    "        for i in range(len(s)):\n",
    "            dict1[s[i]] = conv[i]\n",
    "            \n",
    "        dict2 = {}\n",
    "        for i in range(len(s)):\n",
    "            dict2[conv[i]] = s[i]\n",
    "            \n",
    "        if unit == 'cm':\n",
    "            print('cm->m:',dict1)\n",
    "            print('m->cm:',dict2)\n",
    "        else:\n",
    "            print('m->cm:',dict1)\n",
    "            print('cm->m:',dict2)\n",
    "        break\n",
    "\n",
    "    except:\n",
    "        print('Input provided is wrong.')"
   ]
  },
  {
   "cell_type": "markdown",
   "metadata": {},
   "source": [
    "### 8.Write a Python program that inverts a dictionary, i.e., it makes key of one dictionary value of another and vice versa."
   ]
  },
  {
   "cell_type": "code",
   "execution_count": 11,
   "metadata": {},
   "outputs": [
    {
     "name": "stdout",
     "output_type": "stream",
     "text": [
      "Enter key and value separated by commas (key:value)\n",
      "(NOTE:Don't repeat any element):1:2,apha:40,enum:40,23:45\n",
      "{'2': '1', '40': 'aphaenum', '45': '23'}\n"
     ]
    }
   ],
   "source": [
    "while(1):\n",
    "    try:    \n",
    "        items = input('Enter key and value separated by commas (key:value)\\n(NOTE:Don\\'t repeat any element):').split(',')\n",
    "        d1 = {}\n",
    "        for item in items:\n",
    "            key,value = item.split(':')\n",
    "\n",
    "            if key not in d1.keys():\n",
    "                d1[key] = value\n",
    "            else:\n",
    "                raise()\n",
    "        \n",
    "        d2 = {}\n",
    "        for i in range(len(d1.values())):\n",
    "            a = list(d1.values())[i]\n",
    "            if d2.get(a) == None:\n",
    "                d2[a] = list(d1.keys())[i]\n",
    "            else:\n",
    "                d2[a] += list(d1.keys())[i]\n",
    "                \n",
    "        print(d2)\n",
    "        break\n",
    "\n",
    "    except:\n",
    "        print('Input provided is wrong.')"
   ]
  },
  {
   "cell_type": "markdown",
   "metadata": {},
   "source": [
    "#### 1. What are the advantages of dictionary over list?\n",
    "\n",
    "Ans: Advantages of using dictionary are:\n",
    "\n",
    "1.\tIt enhances the readability of code.\n",
    "2.\tDictionary can hold upto larger spaces than list due to hashing process.\n",
    "3.\tThey are pair of values and so preferable for key-value pair data.\n",
    "4.\tIt’s faster than list as it follows a look up algorithm whereas list is itearble.\n",
    "\n",
    "                                                                      ---------copied from Arnab Das"
   ]
  }
 ],
 "metadata": {
  "kernelspec": {
   "display_name": "Python 3",
   "language": "python",
   "name": "python3"
  },
  "language_info": {
   "codemirror_mode": {
    "name": "ipython",
    "version": 3
   },
   "file_extension": ".py",
   "mimetype": "text/x-python",
   "name": "python",
   "nbconvert_exporter": "python",
   "pygments_lexer": "ipython3",
   "version": "3.7.6"
  }
 },
 "nbformat": 4,
 "nbformat_minor": 4
}
