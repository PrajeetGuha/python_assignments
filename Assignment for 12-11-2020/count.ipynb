{
 "metadata": {
  "language_info": {
   "codemirror_mode": {
    "name": "ipython",
    "version": 3
   },
   "file_extension": ".py",
   "mimetype": "text/x-python",
   "name": "python",
   "nbconvert_exporter": "python",
   "pygments_lexer": "ipython3",
   "version": "3.7.6-final"
  },
  "orig_nbformat": 2,
  "kernelspec": {
   "name": "python3",
   "display_name": "Python 3"
  }
 },
 "nbformat": 4,
 "nbformat_minor": 2,
 "cells": [
  {
   "cell_type": "code",
   "execution_count": 1,
   "metadata": {},
   "outputs": [
    {
     "output_type": "stream",
     "name": "stdout",
     "text": [
      "Number of words:6\nNumber of vowels:6\nNumber of consonants:11\nNumber of punctuations:3\n"
     ]
    }
   ],
   "source": [
    "from string import punctuation\n",
    "\n",
    "vowels = 'aeiou'\n",
    "consonants = 'bcdfghjklmnpqrstvwxyz'\n",
    "punctuations = punctuation\n",
    "\n",
    "s = input('Enter a sentence:')                     #input: Hey &^ I am Using Python.\n",
    "\n",
    "word_c = len(s.lower().split())\n",
    "\n",
    "cc = 0\n",
    "vc = 0\n",
    "pc = 0\n",
    "for word in s.lower().split():\n",
    "    for l in word:\n",
    "        if l in consonants:\n",
    "            cc += 1\n",
    "        elif l in vowels:\n",
    "            vc += 1\n",
    "        elif l in punctuations:\n",
    "            pc += 1\n",
    "\n",
    "print(f'Number of words:{word_c}\\nNumber of vowels:{vc}\\nNumber of consonants:{cc}\\nNumber of punctuations:{pc}')"
   ]
  }
 ]
}