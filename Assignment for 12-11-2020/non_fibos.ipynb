{
 "metadata": {
  "language_info": {
   "codemirror_mode": {
    "name": "ipython",
    "version": 3
   },
   "file_extension": ".py",
   "mimetype": "text/x-python",
   "name": "python",
   "nbconvert_exporter": "python",
   "pygments_lexer": "ipython3",
   "version": "3.7.0-final"
  },
  "orig_nbformat": 2,
  "kernelspec": {
   "name": "python3",
   "display_name": "Python 3"
  }
 },
 "nbformat": 4,
 "nbformat_minor": 2,
 "cells": [
  {
   "cell_type": "code",
   "execution_count": 1,
   "metadata": {},
   "outputs": [
    {
     "output_type": "stream",
     "name": "stdout",
     "text": [
      "4\t6\t7\t9\t10\t11\t12\t14\t15\t16\t17\t18\t19\t20\t22\t23\t24\t25\t26\t27\t28\t29\t30\t31\t32\t33\t35\t36\t37\t38\t39\t40\t41\t42\t43\t44\t45\t46\t47\t48\t49\t50\t51\t52\t53\t54\t56\t57\t58\t59\t60\t61\t62\t63\t64\t65\t66\t67\t68\t69\t70\t71\t72\t73\t74\t75\t76\t77\t78\t79\t80\t81\t82\t83\t84\t85\t86\t87\t88\t90\t91\t92\t93\t94\t95\t96\t97\t98\t99\t100\t"
     ]
    }
   ],
   "source": [
    "r = int(input('Enter the range'))              #Input: 100\n",
    "\n",
    "fibo = [1,1]\n",
    "while (1):\n",
    "\n",
    "    e = fibo[-1] + fibo[-2]\n",
    "\n",
    "    if e in list(range(1,r+1)):\n",
    "        fibo.append(e)\n",
    "    else :\n",
    "        break\n",
    "\n",
    "for i in range(1,r+1):\n",
    "    if i not in fibo:\n",
    "        print(i,end = '\\t')"
   ]
  }
 ]
}