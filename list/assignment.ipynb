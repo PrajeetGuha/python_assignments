{
 "cells": [
  {
   "cell_type": "markdown",
   "metadata": {},
   "source": [
    "# Assignment on List"
   ]
  },
  {
   "cell_type": "markdown",
   "metadata": {},
   "source": [
    "## Write a program in Python to append list of five players in a list and print it using append."
   ]
  },
  {
   "cell_type": "code",
   "execution_count": 1,
   "metadata": {},
   "outputs": [
    {
     "name": "stdout",
     "output_type": "stream",
     "text": [
      "Enter number of 5 player groups:2\n",
      "Enter the name of players separated by a comma:Taylor Swift,Ed Sheeran,Annie-Marie,Charlie Puth,Shawn Mendes\n",
      "Enter the name of players separated by a comma:Lionel Messi,Christopher Ronaldo,Louis Suarez,Neymar Junior,Marco Reus\n",
      "Group 1 players are: Taylor Swift,Ed Sheeran,Annie-Marie,Charlie Puth,Shawn Mendes\n",
      "Group 2 players are: Lionel Messi,Christopher Ronaldo,Louis Suarez,Neymar Junior,Marco Reus\n"
     ]
    }
   ],
   "source": [
    "groups = int(input('Enter number of 5 player groups:'))\n",
    "\n",
    "all = []\n",
    "while (groups):\n",
    "\n",
    "    player = input('Enter the name of players separated by a comma:').split(',')\n",
    "\n",
    "    if len(player) == 5:\n",
    "        all.append(player)\n",
    "        groups -= 1\n",
    "    else:\n",
    "        print('Please enter 5 players separated by a comma.')\n",
    "\n",
    "for i,j in enumerate(all):\n",
    "\n",
    "    print(f\"Group {i+1} players are: {','.join(all[i])}\")"
   ]
  },
  {
   "cell_type": "markdown",
   "metadata": {},
   "source": [
    "## Write a program in Python which counts frequency of numbers from a list using count."
   ]
  },
  {
   "cell_type": "code",
   "execution_count": 2,
   "metadata": {},
   "outputs": [
    {
     "name": "stdout",
     "output_type": "stream",
     "text": [
      "Enter items separated by a comma:1,2,lantern,placement,8lpa,8lpa,2,2,placement,0.00\n",
      "8lpa is repeated 2 times\n",
      "\n",
      "placement is repeated 2 times\n",
      "\n",
      "2 is repeated 3 times\n",
      "\n",
      "lantern is repeated 1 time\n",
      "\n",
      "0.00 is repeated 1 time\n",
      "\n",
      "1 is repeated 1 time\n",
      "\n"
     ]
    }
   ],
   "source": [
    "  while(1):\n",
    "            \n",
    "    try:\n",
    "        lst = input('Enter items separated by a comma:').split(',')\n",
    "\n",
    "        for i in set(lst):\n",
    "            \n",
    "            c = lst.count(i)\n",
    "            print(f'{i} is repeated {c}',end=' ')\n",
    "\n",
    "            if c>1:\n",
    "                print('times',end='\\n\\n')\n",
    "            else:\n",
    "                print('time',end='\\n\\n')\n",
    "                \n",
    "        break\n",
    "\n",
    "    except:\n",
    "        print('Invalid input. Try again.')"
   ]
  },
  {
   "cell_type": "markdown",
   "metadata": {},
   "source": [
    "## Write a program in Python to sort list using sort."
   ]
  },
  {
   "cell_type": "code",
   "execution_count": 3,
   "metadata": {},
   "outputs": [
    {
     "name": "stdout",
     "output_type": "stream",
     "text": [
      "Enter an array of numbers separated by a space:1 item item\n",
      "Wrong input. Try again.\n",
      "Enter an array of numbers separated by a space:1 4 7 2 4 45 90 11 35 69 34 23 101 6 12\n",
      "1 2 4 4 6 7 11 12 23 34 35 45 69 90 101\n"
     ]
    }
   ],
   "source": [
    "while(1):\n",
    "    \n",
    "    try:  \n",
    "        s = list(map(int,input('Enter an array of numbers separated by a space:').split()))\n",
    "        s.sort()\n",
    "\n",
    "        lst = list(map(str,s))\n",
    "        print(' '.join(lst))\n",
    "        break\n",
    "\n",
    "    except:\n",
    "        print('Wrong input. Try again.')"
   ]
  },
  {
   "cell_type": "markdown",
   "metadata": {},
   "source": [
    "## Write a program in Python to search for an item from a list using index."
   ]
  },
  {
   "cell_type": "code",
   "execution_count": 6,
   "metadata": {
    "tags": []
   },
   "outputs": [
    {
     "name": "stdout",
     "output_type": "stream",
     "text": [
      "Enter items separated by a comma:1,2,3,4,5,6,7,8,9,0,1,2,3,4,5,1,4,76,8,9,5,3,2,5,7,78,2,232,5,1,31,3,2,2,2,2\n",
      "Enter element to search:2\n",
      "The element (2) is found in 1,11,22,26,32,33,34,35 indices\n"
     ]
    }
   ],
   "source": [
    "while (1):\n",
    "\n",
    "    try:\n",
    "\n",
    "        s = input('Enter items separated by a comma:').split(',')\n",
    "        search = input('Enter element to search:')\n",
    "        found = []\n",
    "        checked = False\n",
    "        i = 0\n",
    "\n",
    "        while not checked:\n",
    "\n",
    "             try:\n",
    "                use = s[i:]\n",
    "                index = use.index(search)\n",
    "                i = i + index + 1\n",
    "                found.append(i-1)\n",
    "\n",
    "             except:\n",
    "                checked = True\n",
    "\n",
    "        if len(found) == 0:\n",
    "            print('No such element is present.')\n",
    "        \n",
    "        elif len(found) == 1:\n",
    "            print(f'The element ({search}) is present in {found[0]} index')\n",
    "\n",
    "        else:\n",
    "            lst = list(map(str,found))\n",
    "            print(f\"The element ({search}) is found in {','.join(lst)} indices\")\n",
    "        break\n",
    "    except:\n",
    "        print('Wrong input format. try again.')"
   ]
  },
  {
   "cell_type": "markdown",
   "metadata": {},
   "source": [
    "## Create a table using list of lists by writing a program in Python."
   ]
  },
  {
   "cell_type": "code",
   "execution_count": 7,
   "metadata": {},
   "outputs": [
    {
     "name": "stdout",
     "output_type": "stream",
     "text": [
      "Enter number of rows and columns separated by a space:4 3\n",
      "Enter 3 elements separated by a space:4 23 12 1\n",
      "Number of columns provided is wrong please try again.\n",
      "Enter 3 elements separated by a space:4 23 12\n",
      "Enter 3 elements separated by a space:23 56 1\n",
      "Enter 3 elements separated by a space:11 12 13\n",
      "Enter 3 elements separated by a space:4 6 7\n",
      "\n",
      "The table is:\n",
      "\n",
      "4\t23\t12\t\n",
      "23\t56\t1\t\n",
      "11\t12\t13\t\n",
      "4\t6\t7\t\n"
     ]
    }
   ],
   "source": [
    "while (1):\n",
    "\n",
    "    try:\n",
    "\n",
    "        m,n = input('Enter number of rows and columns separated by a space:').split()\n",
    "        table = []\n",
    "        m = int(m)\n",
    "\n",
    "        while (m):\n",
    "\n",
    "            lst = list(map(int,input(f'Enter {n} elements separated by a space:').split()))\n",
    "\n",
    "            if len(lst) != int(n):\n",
    "                print('Number of columns provided is wrong please try again.')\n",
    "            \n",
    "            else:\n",
    "                m -= 1\n",
    "                table.append(lst)\n",
    "        \n",
    "        print('\\nThe table is:\\n')\n",
    "        for r in table:\n",
    "            for c in r:\n",
    "\n",
    "                print(c,end = '\\t')\n",
    "\n",
    "            print()\n",
    "        break\n",
    "    except:\n",
    "        print('Wrong input. Try again.')"
   ]
  },
  {
   "cell_type": "markdown",
   "metadata": {},
   "source": [
    "## Write a program in Python to store two lists and compare them."
   ]
  },
  {
   "cell_type": "code",
   "execution_count": 9,
   "metadata": {},
   "outputs": [
    {
     "name": "stdout",
     "output_type": "stream",
     "text": [
      "Enter the first list of items separated by comma:1 2 forest 3.56 12.3456 False True\n",
      "Enter the second list of items separated by comma:1 2 forage 3.56 12.3456 True False\n",
      "['1 2 forest 3.56 12.3456 False True'] is greater than ['1 2 forage 3.56 12.3456 True False']\n"
     ]
    }
   ],
   "source": [
    "lst1 = input('Enter the first list of items separated by comma:').split(',')\n",
    "lst2 = input('Enter the second list of items separated by comma:').split(',')\n",
    "\n",
    "if lst1 == lst2:\n",
    "    print(f'{lst1} and {lst2} are equivalent.')\n",
    "elif lst1 > lst2:\n",
    "    print(f'{lst1} is greater than {lst2}')\n",
    "else:\n",
    "    print(f'{lst2} is greater than {lst1}')"
   ]
  },
  {
   "cell_type": "markdown",
   "metadata": {},
   "source": [
    "## Why lists are called mutable?\n",
    "\n",
    "### List are called mutable as each element can be reassigned with a new value by just calling it by its index number in the list."
   ]
  },
  {
   "cell_type": "markdown",
   "metadata": {},
   "source": [
    "    "
   ]
  },
  {
   "cell_type": "markdown",
   "metadata": {},
   "source": [
    "  "
   ]
  },
  {
   "cell_type": "markdown",
   "metadata": {},
   "source": [
    "## What are the advantages of using lists compared to array in C?\n",
    "\n",
    "### The following are the advantages of using list in Python compared to array in C -\n",
    "\n",
    " #### 1. Array in C are not resizable while list in python are resizable. \n",
    " #### 2. We need to declare the size of variable storing the array/list in C unlike in python where we can create it without specifying                    the size.\n",
    " #### 3. Python identifies list variables as an object hence making it easier for OOPs. C is very old language which during its time                                didn't have objects hence array is not an object for C. So C arrays is difficult to use in OOPs."
   ]
  }
 ],
 "metadata": {
  "kernelspec": {
   "display_name": "Python 3",
   "language": "python",
   "name": "python3"
  },
  "language_info": {
   "codemirror_mode": {
    "name": "ipython",
    "version": 3
   },
   "file_extension": ".py",
   "mimetype": "text/x-python",
   "name": "python",
   "nbconvert_exporter": "python",
   "pygments_lexer": "ipython3",
   "version": "3.7.6"
  }
 },
 "nbformat": 4,
 "nbformat_minor": 2
}
