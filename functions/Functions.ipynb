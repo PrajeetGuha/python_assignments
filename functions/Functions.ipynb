{
 "cells": [
  {
   "cell_type": "markdown",
   "metadata": {},
   "source": [
    "# Assignment on Functions"
   ]
  },
  {
   "cell_type": "markdown",
   "metadata": {},
   "source": [
    "### Write a program in Python using function (recursive and non recursive) to generate Fibonacci series up to n th term. The n is provided as input and passed to the function."
   ]
  },
  {
   "cell_type": "code",
   "execution_count": 2,
   "metadata": {},
   "outputs": [
    {
     "name": "stdin",
     "output_type": "stream",
     "text": [
      "Enter number of terms: 13\n",
      "Options:\n",
      "1.Change the number of terms.\n",
      "2.Recursively\n",
      "3.Non-recursively\n",
      "4.Exit. 1\n",
      "Enter number of terms: 9\n",
      "Options:\n",
      "1.Change the number of terms.\n",
      "2.Recursively\n",
      "3.Non-recursively\n",
      "4.Exit. 2\n"
     ]
    },
    {
     "name": "stdout",
     "output_type": "stream",
     "text": [
      "1\t1\t2\t3\t5\t8\t13\t21\t34\t"
     ]
    },
    {
     "name": "stdin",
     "output_type": "stream",
     "text": [
      "Options:\n",
      "1.Change the number of terms.\n",
      "2.Recursively\n",
      "3.Non-recursively\n",
      "4.Exit. 3\n"
     ]
    },
    {
     "name": "stdout",
     "output_type": "stream",
     "text": [
      "1\t1\t2\t3\t5\t8\t13\t21\t34\t"
     ]
    },
    {
     "name": "stdin",
     "output_type": "stream",
     "text": [
      "Options:\n",
      "1.Change the number of terms.\n",
      "2.Recursively\n",
      "3.Non-recursively\n",
      "4.Exit. 1\n",
      "Enter number of terms: 20\n",
      "Options:\n",
      "1.Change the number of terms.\n",
      "2.Recursively\n",
      "3.Non-recursively\n",
      "4.Exit. 2\n"
     ]
    },
    {
     "name": "stdout",
     "output_type": "stream",
     "text": [
      "1\t1\t2\t3\t5\t8\t13\t21\t34\t55\t89\t144\t233\t377\t610\t987\t1597\t2584\t4181\t6765\t"
     ]
    },
    {
     "name": "stdin",
     "output_type": "stream",
     "text": [
      "Options:\n",
      "1.Change the number of terms.\n",
      "2.Recursively\n",
      "3.Non-recursively\n",
      "4.Exit. 3\n"
     ]
    },
    {
     "name": "stdout",
     "output_type": "stream",
     "text": [
      "1\t1\t2\t3\t5\t8\t13\t21\t34\t55\t89\t144\t233\t377\t610\t987\t1597\t2584\t4181\t6765\t"
     ]
    },
    {
     "name": "stdin",
     "output_type": "stream",
     "text": [
      "Options:\n",
      "1.Change the number of terms.\n",
      "2.Recursively\n",
      "3.Non-recursively\n",
      "4.Exit. 4\n"
     ]
    }
   ],
   "source": [
    "def fibonacci_series(n,recurse = False):\n",
    "    \n",
    "    if recurse == False:\n",
    "        \n",
    "        if n == 1:\n",
    "            return [1]\n",
    "        elif n == 2:\n",
    "            return [1,1]\n",
    "        else:\n",
    "            lst = [1,1]\n",
    "            while True:\n",
    "                lst.append((lst[-1]+lst[-2]))\n",
    "\n",
    "                if len(lst) == n:\n",
    "                    return lst\n",
    "                else:\n",
    "                    continue\n",
    "                    \n",
    "    else:\n",
    "        \n",
    "        lst = [0,1]\n",
    "        def recurse(lst,n):\n",
    "            \n",
    "            if len(lst[1:]) == n:\n",
    "                return lst[1:]\n",
    "            else:\n",
    "                lst.append((lst[-1]+lst[-2]))\n",
    "                return recurse(lst,n)\n",
    "        \n",
    "        return recurse(lst,n)\n",
    "    \n",
    "while 1:\n",
    "    try:\n",
    "        n = int(input('Enter number of terms:'))\n",
    "        while 1:\n",
    "            c = input('Options:\\n1.Change the number of terms.\\n2.Recursively\\n3.Non-recursively\\n4.Exit.')\n",
    "            if c == '1':\n",
    "                 n = int(input('Enter number of terms:'))\n",
    "                 continue\n",
    "            elif c == '2':\n",
    "                lst = fibonacci_series(n,True)\n",
    "            elif c == '3':\n",
    "                lst = fibonacci_series(n,False)\n",
    "            elif c == '4':\n",
    "                break\n",
    "            else:\n",
    "                print('Wrong option.Try again.')\n",
    "\n",
    "            for i in lst:\n",
    "                print(i,end='\\t')\n",
    "                \n",
    "        break\n",
    "    except:\n",
    "        print('Wrong input.')"
   ]
  },
  {
   "cell_type": "markdown",
   "metadata": {},
   "source": [
    "### Write a program in Python using function to generate Pascal’s triangle of n rows."
   ]
  },
  {
   "cell_type": "code",
   "execution_count": 30,
   "metadata": {},
   "outputs": [
    {
     "name": "stdin",
     "output_type": "stream",
     "text": [
      "Enter number of rows of pascal's triangle: 15\n"
     ]
    },
    {
     "name": "stdout",
     "output_type": "stream",
     "text": [
      "                                                         1                                                              \n",
      "                                                      1     1                                                           \n",
      "                                                   1     2     1                                                        \n",
      "                                                1     3     3     1                                                     \n",
      "                                             1     4     6     4     1                                                  \n",
      "                                         1     5     10     10     5     1                                              \n",
      "                                     1     6     15     20     15     6     1                                           \n",
      "                                  1     7     21     35     35     21     7     1                                       \n",
      "                              1     8     28     56     70     56     28     8     1                                    \n",
      "                          1     9     36     84     126     126     84     36     9     1                               \n",
      "                    1     10     45     120     210     252     210     120     45     10     1                         \n",
      "                1     11     55     165     330     462     462     330     165     55     11     1                     \n",
      "            1     12     66     220     495     792     924     792     495     220     66     12     1                 \n",
      "      1     13     78     286     715     1287     1716     1716     1287     715     286     78     13     1           \n",
      "1     14     91     364     1001     2002     3003     3432     3003     2002     1001     364     91     14     1      \n"
     ]
    }
   ],
   "source": [
    "def pascal_triangle(n):\n",
    "    \n",
    "    lst = [0,1,0]\n",
    "    space = max([len(str(s)) for s in lst])\n",
    "    for i in range(1,n+1):\n",
    "        s = ''\n",
    "        for k in lst[1:-1]:\n",
    "            s += str(k)\n",
    "            s += 5*space*' '\n",
    "        \n",
    "        tst = [0]\n",
    "        for j in range(len(lst)-1):\n",
    "            tst.append(lst[j]+lst[j+1])\n",
    "            \n",
    "        tst.append(0)\n",
    "            \n",
    "        lst = tst\n",
    "        \n",
    "        ms = s.center(8*n,' ')\n",
    "        print(ms)\n",
    "        \n",
    "while (1):\n",
    "    \n",
    "    try:\n",
    "        n = int(input('Enter number of rows of pascal\\'s triangle:'))\n",
    "        pascal_triangle(n)\n",
    "        break        \n",
    "    except:\n",
    "        print('Wrong input. Try again later.')"
   ]
  },
  {
   "cell_type": "markdown",
   "metadata": {},
   "source": [
    "### Write a program in Python which will calculate GCD of n numbers using function where n is given as input."
   ]
  },
  {
   "cell_type": "code",
   "execution_count": 3,
   "metadata": {},
   "outputs": [
    {
     "name": "stdin",
     "output_type": "stream",
     "text": [
      "Enter number separated by space: 60 50 35 5 75 235\n"
     ]
    },
    {
     "name": "stdout",
     "output_type": "stream",
     "text": [
      "The gcd is: 5\n"
     ]
    }
   ],
   "source": [
    "def gcd(lst):\n",
    "    \n",
    "    d = 1\n",
    "    for i in range(2,min(lst)+1):\n",
    "        bool_list = [a%i == 0 for a in lst]\n",
    "        \n",
    "        if False in bool_list:\n",
    "            continue\n",
    "        else:\n",
    "            d = i\n",
    "    \n",
    "    print('The gcd is:',d)\n",
    "    \n",
    "while (1):\n",
    "    \n",
    "    try:\n",
    "        n = list(map(int,input('Enter number separated by space:').strip().split()))\n",
    "        gcd(n)\n",
    "        break        \n",
    "    except:\n",
    "        print('Wrong input. Try again later.')"
   ]
  },
  {
   "cell_type": "markdown",
   "metadata": {},
   "source": [
    "### Write a menu driven Python program to perform basic mathematical operations. All the operations are defined as functions. The user can continue operation as long the user wants. The operations are addition, subtraction, multiplication, division, and exponentiation."
   ]
  },
  {
   "cell_type": "code",
   "execution_count": 7,
   "metadata": {},
   "outputs": [
    {
     "name": "stdin",
     "output_type": "stream",
     "text": [
      "Write the binary operand:(Ex.5 6): 23 67\n",
      "Enter operator:(Press 0 to exit) +\n"
     ]
    },
    {
     "name": "stdout",
     "output_type": "stream",
     "text": [
      "90.0\n"
     ]
    },
    {
     "name": "stdin",
     "output_type": "stream",
     "text": [
      "Write the binary operand:(Ex.5 6): 15 4\n",
      "Enter operator:(Press 0 to exit) -\n"
     ]
    },
    {
     "name": "stdout",
     "output_type": "stream",
     "text": [
      "11.0\n"
     ]
    },
    {
     "name": "stdin",
     "output_type": "stream",
     "text": [
      "Write the binary operand:(Ex.5 6): 2 0\n",
      "Enter operator:(Press 0 to exit) *\n"
     ]
    },
    {
     "name": "stdout",
     "output_type": "stream",
     "text": [
      "0.0\n"
     ]
    },
    {
     "name": "stdin",
     "output_type": "stream",
     "text": [
      "Write the binary operand:(Ex.5 6): 12 9\n",
      "Enter operator:(Press 0 to exit) /\n"
     ]
    },
    {
     "name": "stdout",
     "output_type": "stream",
     "text": [
      "Quotient: 1.0 Remainder: 3.0\n"
     ]
    },
    {
     "name": "stdin",
     "output_type": "stream",
     "text": [
      "Write the binary operand:(Ex.5 6): 8 8\n",
      "Enter operator:(Press 0 to exit) ^\n"
     ]
    },
    {
     "name": "stdout",
     "output_type": "stream",
     "text": [
      "16777216.0\n"
     ]
    },
    {
     "name": "stdin",
     "output_type": "stream",
     "text": [
      "Write the binary operand:(Ex.5 6): 1 1\n",
      "Enter operator:(Press 0 to exit) 0\n"
     ]
    }
   ],
   "source": [
    "def add(a,b):\n",
    "    \n",
    "    print(a+b)\n",
    "\n",
    "def subtract(a,b):\n",
    "    \n",
    "    print(a-b)\n",
    "\n",
    "def multiply(a,b):\n",
    "    \n",
    "    print(a*b)\n",
    "\n",
    "def divide(a,b):\n",
    "    \n",
    "    print('Quotient:',a//b,'Remainder:',a%b)\n",
    "            \n",
    "def exponent(a,b):\n",
    "    \n",
    "    print(a**b)\n",
    "            \n",
    "while 1:\n",
    "    \n",
    "    try:\n",
    "        while 1:\n",
    "            a,b = list(map(float,input('Write the binary operand:(Ex.5 6):').split()))\n",
    "            op = input('Enter operator:(Press 0 to exit)')\n",
    "            \n",
    "            if op == '+':\n",
    "                add(a,b)\n",
    "            elif op == '-':\n",
    "                subtract(a,b)\n",
    "            elif op == '*':\n",
    "                multiply(a,b)\n",
    "            elif op == '/':\n",
    "                divide(a,b)\n",
    "            elif op == '^':\n",
    "                exponent(a,b)\n",
    "            elif op == '0':\n",
    "                break\n",
    "            else:\n",
    "                print('Wrong input.')\n",
    "        break\n",
    "    except:\n",
    "        print('Wrong input. Try again.')"
   ]
  },
  {
   "cell_type": "markdown",
   "metadata": {},
   "source": [
    "### Write a Python program which calculates volume of a box using function. The number of arguments passed, are at most three and at least zero"
   ]
  },
  {
   "cell_type": "code",
   "execution_count": 1,
   "metadata": {},
   "outputs": [
    {
     "name": "stdin",
     "output_type": "stream",
     "text": [
      "Enter sides separated by space: 12\n"
     ]
    },
    {
     "name": "stdout",
     "output_type": "stream",
     "text": [
      "Volume: 1728\n"
     ]
    }
   ],
   "source": [
    "def volume(a,b = False,c = False):\n",
    "    \n",
    "    if b == False and c == False:\n",
    "        \n",
    "        print('Volume:',(a*a*a))\n",
    "        \n",
    "    elif c == False:\n",
    "        \n",
    "        print('Volume may be:',(a*b*a),'or',(a*b*b))\n",
    "        \n",
    "    else:\n",
    "        \n",
    "        print('Volume:',(a*b*c))\n",
    "        \n",
    "while 1:\n",
    "    \n",
    "    try:\n",
    "        \n",
    "        s = list(map(int,input('Enter sides separated by space:').split()))\n",
    "        \n",
    "        if len(s) == 1:\n",
    "            volume(s[0])\n",
    "        elif len(s) == 2:\n",
    "            volume(s[0],s[1])\n",
    "        elif len(s) == 3:\n",
    "            volume(s[0],s[1],s[2])\n",
    "            \n",
    "        break\n",
    "    except:\n",
    "        print('Try again.')"
   ]
  },
  {
   "cell_type": "markdown",
   "metadata": {},
   "source": [
    "### Write a Python program using function which prints the name of the subjects you like to read. Thetotal number of subjects may vary. The subject names are passed as arguments."
   ]
  },
  {
   "cell_type": "code",
   "execution_count": 1,
   "metadata": {},
   "outputs": [
    {
     "name": "stdout",
     "output_type": "stream",
     "text": [
      "Electronics\n",
      "Data Structures\n",
      "Mathematics\n",
      "English\n"
     ]
    }
   ],
   "source": [
    "def favourite(*subjects):\n",
    "    \n",
    "    for sub in subjects:\n",
    "        \n",
    "        print(sub)\n",
    "        \n",
    "favourite('Electronics','Data Structures','Mathematics','English')"
   ]
  },
  {
   "cell_type": "markdown",
   "metadata": {},
   "source": [
    "### Write a Python program using function which calculates simple interest. The rate of interest for senior citizen is 12% and for others is 10%."
   ]
  },
  {
   "cell_type": "code",
   "execution_count": 2,
   "metadata": {},
   "outputs": [
    {
     "name": "stdin",
     "output_type": "stream",
     "text": [
      "Enter principle amount: 123456\n",
      "Enter time period: 5\n",
      "1.Young\n",
      "2.Old 1\n"
     ]
    },
    {
     "name": "stdout",
     "output_type": "stream",
     "text": [
      "679008.0\n"
     ]
    }
   ],
   "source": [
    "def interest(p,i,t):\n",
    "    \n",
    "    print(p*(1+(i*0.01))*t)\n",
    "    \n",
    "while 1:\n",
    "    \n",
    "    try:\n",
    "        \n",
    "        p = float(input('Enter principle amount:'))\n",
    "        t = int(input('Enter time period:'))\n",
    "        \n",
    "        while 1:\n",
    "            c = input('1.Young\\n2.Old')\n",
    "\n",
    "            if c == '1':\n",
    "                interest(p,10,t)\n",
    "                break\n",
    "            elif c == '2':\n",
    "                interest(p,12,t)\n",
    "                break\n",
    "            else:\n",
    "                print('Wrong input choice.')\n",
    "                \n",
    "        break\n",
    "        \n",
    "    except:\n",
    "        print('Wrong input.')"
   ]
  },
  {
   "cell_type": "markdown",
   "metadata": {},
   "source": [
    "### Write a Python program using function that computes P(n,r).\n",
    "### Write a Python program using function that computes C(n,r)."
   ]
  },
  {
   "cell_type": "code",
   "execution_count": 2,
   "metadata": {},
   "outputs": [
    {
     "name": "stdin",
     "output_type": "stream",
     "text": [
      "Value of n: 12\n",
      "Value of r: 6\n"
     ]
    },
    {
     "name": "stdout",
     "output_type": "stream",
     "text": [
      "Permutation: 665280.0 Combination: 924.0\n"
     ]
    }
   ],
   "source": [
    "def factorial(n):\n",
    "    \n",
    "    mult = 1\n",
    "    for i in range(2,n+1):\n",
    "        mult *= i\n",
    "    return mult\n",
    "\n",
    "def permutation(n,r):\n",
    "    \n",
    "    return factorial(n)/factorial(n-r)\n",
    "\n",
    "def combination(n,r):\n",
    "    \n",
    "    return permutation(n,r)/factorial(r)\n",
    "\n",
    "while 1:\n",
    "    \n",
    "    try:\n",
    "        n = int(input('Value of n:'))\n",
    "        r = int(input('Value of r:'))\n",
    "        print('Permutation:',permutation(n,r),'Combination:',combination(n,r))\n",
    "        break\n",
    "    except:\n",
    "        print('Wrong input.Try again.')"
   ]
  },
  {
   "cell_type": "markdown",
   "metadata": {},
   "source": [
    "### Write a Python program using function which finds out maximum and minimum of three numbers."
   ]
  },
  {
   "cell_type": "code",
   "execution_count": 3,
   "metadata": {},
   "outputs": [
    {
     "name": "stdin",
     "output_type": "stream",
     "text": [
      "Enter three numbers, seperated by a space:  23 45 12\n"
     ]
    },
    {
     "name": "stdout",
     "output_type": "stream",
     "text": [
      "The maximum among these numbers is:  45\n",
      "The minimum among these numbers is:  12\n"
     ]
    }
   ],
   "source": [
    "def check (x, y):\n",
    "    if x > y:\n",
    "        return x\n",
    "    return y\n",
    "\n",
    "def maximum (a, b, c):\n",
    "    return check(a, check(b, c))\n",
    "def minimum (a, b, c):\n",
    "    return (- check(-a, check(-b, -c)))\n",
    "\n",
    "while 1:\n",
    "    try:\n",
    "        k, l, m = map(int, input(\"Enter three numbers, seperated by a space: \"). split())\n",
    "        print(\"The maximum among these numbers is: \", maximum(k, l, m))\n",
    "        print(\"The minimum among these numbers is: \", minimum(k, l, m))\n",
    "        break\n",
    "\n",
    "    except:\n",
    "        print (\"Please enter valid inputs!!\")"
   ]
  }
 ],
 "metadata": {
  "kernelspec": {
   "display_name": "Python 3",
   "language": "python",
   "name": "python3"
  },
  "language_info": {
   "codemirror_mode": {
    "name": "ipython",
    "version": 3
   },
   "file_extension": ".py",
   "mimetype": "text/x-python",
   "name": "python",
   "nbconvert_exporter": "python",
   "pygments_lexer": "ipython3",
   "version": "3.9.0"
  }
 },
 "nbformat": 4,
 "nbformat_minor": 4
}
