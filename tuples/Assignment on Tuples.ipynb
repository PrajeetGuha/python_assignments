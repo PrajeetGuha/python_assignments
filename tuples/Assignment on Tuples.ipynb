{
 "cells": [
  {
   "cell_type": "markdown",
   "metadata": {},
   "source": [
    "# Assignment on Tuples"
   ]
  },
  {
   "cell_type": "markdown",
   "metadata": {},
   "source": [
    "## Question No. 1"
   ]
  },
  {
   "cell_type": "markdown",
   "metadata": {},
   "source": [
    "#### Save a tuple and print it. Then delete it."
   ]
  },
  {
   "cell_type": "code",
   "execution_count": 2,
   "metadata": {},
   "outputs": [
    {
     "name": "stdout",
     "output_type": "stream",
     "text": [
      "(50, 1)\n"
     ]
    },
    {
     "ename": "NameError",
     "evalue": "name 't2' is not defined",
     "output_type": "error",
     "traceback": [
      "\u001b[1;31m---------------------------------------------------------------------------\u001b[0m",
      "\u001b[1;31mNameError\u001b[0m                                 Traceback (most recent call last)",
      "\u001b[1;32m<ipython-input-2-fe3a4bf7ffa3>\u001b[0m in \u001b[0;36m<module>\u001b[1;34m\u001b[0m\n\u001b[0;32m      2\u001b[0m \u001b[0mprint\u001b[0m\u001b[1;33m(\u001b[0m\u001b[0mt2\u001b[0m\u001b[1;33m)\u001b[0m\u001b[1;33m\u001b[0m\u001b[1;33m\u001b[0m\u001b[0m\n\u001b[0;32m      3\u001b[0m \u001b[1;32mdel\u001b[0m\u001b[1;33m(\u001b[0m\u001b[0mt2\u001b[0m\u001b[1;33m)\u001b[0m\u001b[1;33m\u001b[0m\u001b[1;33m\u001b[0m\u001b[0m\n\u001b[1;32m----> 4\u001b[1;33m \u001b[0mprint\u001b[0m\u001b[1;33m(\u001b[0m\u001b[0mt2\u001b[0m\u001b[1;33m)\u001b[0m\u001b[1;33m\u001b[0m\u001b[1;33m\u001b[0m\u001b[0m\n\u001b[0m",
      "\u001b[1;31mNameError\u001b[0m: name 't2' is not defined"
     ]
    }
   ],
   "source": [
    "t2 = (50,1)\n",
    "print(t2)\n",
    "del(t2)         #variable is deleted (shows NameError)\n",
    "print(t2)"
   ]
  },
  {
   "cell_type": "markdown",
   "metadata": {},
   "source": [
    "#### Save a tuple. Concatenate them without using loops."
   ]
  },
  {
   "cell_type": "code",
   "execution_count": 4,
   "metadata": {},
   "outputs": [
    {
     "name": "stdout",
     "output_type": "stream",
     "text": [
      "(1, 2, 3, 4) (32, 12)\n",
      "(1, 2, 3, 4, 32, 12)\n"
     ]
    }
   ],
   "source": [
    "t3 = (1,2,3,4)\n",
    "t4 = (32,12)\n",
    "print(t3,t4)\n",
    "t5 = t3 + t4   #concatenates 2 tuples\n",
    "print(t5)"
   ]
  },
  {
   "cell_type": "markdown",
   "metadata": {},
   "source": [
    "#### Save a tuple with 1 item. Save a new tuple with the this item 5 times repeated without using loops."
   ]
  },
  {
   "cell_type": "code",
   "execution_count": 5,
   "metadata": {},
   "outputs": [
    {
     "name": "stdout",
     "output_type": "stream",
     "text": [
      "(50,)\n",
      "(50, 50, 50, 50, 50)\n"
     ]
    }
   ],
   "source": [
    "t6 = (50,)\n",
    "print(t6)\n",
    "t7 = t6*5      #concatenates tuple to itself for n times (here n = 5)\n",
    "print(t7)"
   ]
  },
  {
   "cell_type": "markdown",
   "metadata": {},
   "source": [
    "#### Save a tuple. Print the sub-tuple from ith item to j-1th item."
   ]
  },
  {
   "cell_type": "code",
   "execution_count": 7,
   "metadata": {},
   "outputs": [
    {
     "name": "stdout",
     "output_type": "stream",
     "text": [
      "(1, 5, 2, 32, 4, 56, 10)\n",
      "(32, 4, 56)\n"
     ]
    }
   ],
   "source": [
    "t8 = (1,5,2,32,4,56,10)\n",
    "print(t8)\n",
    "t9 = t8[3:6]   #slicing the tuple for i to j-1 index (here i is 3 and j is 6)\n",
    "print(t9)"
   ]
  },
  {
   "cell_type": "code",
   "execution_count": 8,
   "metadata": {},
   "outputs": [
    {
     "name": "stdout",
     "output_type": "stream",
     "text": [
      "(1, 2, 3, 4, 5)\n",
      "[1, 2, 3, 4, 5]\n"
     ]
    }
   ],
   "source": [
    "t10 = (1,2,3,4,5)\n",
    "print(t10)\n",
    "l1 = list(t10) #typecasting a tuple to list\n",
    "print(l1)"
   ]
  },
  {
   "cell_type": "markdown",
   "metadata": {},
   "source": [
    "#### Save a tuple. Find the max, min and the length of the tuple."
   ]
  },
  {
   "cell_type": "code",
   "execution_count": 10,
   "metadata": {},
   "outputs": [
    {
     "name": "stdout",
     "output_type": "stream",
     "text": [
      "(1, 23, 12, 45, 32, 66, 78, 23, 11, 10)\n",
      "Max: 78\n",
      "Min: 1\n",
      "Len: 10\n"
     ]
    }
   ],
   "source": [
    "t11 = (1,23,12,45,32,66,78,23,11,10)\n",
    "print(t11)\n",
    "print('Max:',max(t11))  #gives maximum value\n",
    "print('Min:',min(t11))  #gives minimum value\n",
    "print('Len:',len(t11))  #gives length"
   ]
  },
  {
   "cell_type": "markdown",
   "metadata": {},
   "source": [
    "#### Save a tuple and print the reverse of it."
   ]
  },
  {
   "cell_type": "code",
   "execution_count": 12,
   "metadata": {},
   "outputs": [
    {
     "name": "stdout",
     "output_type": "stream",
     "text": [
      "('stcetlife', 50, 10)\n",
      "(10, 50, 'stcetlife')\n"
     ]
    }
   ],
   "source": [
    "t12 = ('stcetlife',50,10)\n",
    "print(t12)\n",
    "t13 = tuple(reversed(t12))    #reverses the order of item and typecasted to tuple as it returns an object\n",
    "print(t13)"
   ]
  },
  {
   "cell_type": "markdown",
   "metadata": {},
   "source": [
    "#### Save a list. Write a program that prints the number of items before the first instance of a tuple item in the list."
   ]
  },
  {
   "cell_type": "code",
   "execution_count": 3,
   "metadata": {},
   "outputs": [
    {
     "name": "stdout",
     "output_type": "stream",
     "text": [
      "[2, 4, 5, [4, 2, 3], (13, 'red')]\n",
      "Number of elements: 4\n"
     ]
    }
   ],
   "source": [
    "l2 = [2,4,5,[4,2,3],(13,'red')]\n",
    "print(l2)\n",
    "c = 0\n",
    "for i in l2:\n",
    "    \n",
    "    if isinstance(i,tuple):  #boolean function returns True if the object is same as the instance provided (here i is object,\n",
    "                             #tuple is object instance)\n",
    "        break\n",
    "    c += 1\n",
    "print('Number of elements:',c)"
   ]
  },
  {
   "cell_type": "markdown",
   "metadata": {},
   "source": [
    "#### Write a Python program to find the index of an item of a tuple. Convert a string to a tuple. Check it for all possible parameters of index function. Check it for an item which is not present."
   ]
  },
  {
   "cell_type": "code",
   "execution_count": 2,
   "metadata": {},
   "outputs": [
    {
     "name": "stdout",
     "output_type": "stream",
     "text": [
      "('H', 'E', 'L', 'L', 'O', ' ', 'W', 'O', 'R', 'L', 'D')\n",
      "\n",
      "The tuple is: (1, 2, 45, 34, 23, 89, 54, 23, 78, 11, 90, 45, 11, 11)\n",
      "Element found in index: 9\n",
      "\n",
      "Element found in index: 7\n",
      "\n",
      "Element found in index: 12\n",
      "\n"
     ]
    },
    {
     "ename": "ValueError",
     "evalue": "tuple.index(x): x not in tuple",
     "output_type": "error",
     "traceback": [
      "\u001b[1;31m---------------------------------------------------------------------------\u001b[0m",
      "\u001b[1;31mValueError\u001b[0m                                Traceback (most recent call last)",
      "\u001b[1;32m<ipython-input-2-346e4ad0805a>\u001b[0m in \u001b[0;36m<module>\u001b[1;34m\u001b[0m\n\u001b[0;32m     17\u001b[0m \u001b[1;33m\u001b[0m\u001b[0m\n\u001b[0;32m     18\u001b[0m \u001b[0ms4\u001b[0m \u001b[1;33m=\u001b[0m \u001b[1;36m0\u001b[0m\u001b[1;33m\u001b[0m\u001b[1;33m\u001b[0m\u001b[0m\n\u001b[1;32m---> 19\u001b[1;33m \u001b[0mt14\u001b[0m\u001b[1;33m.\u001b[0m\u001b[0mindex\u001b[0m\u001b[1;33m(\u001b[0m\u001b[0ms4\u001b[0m\u001b[1;33m)\u001b[0m                                                  \u001b[1;31m#raises ValueError if it is not present.\u001b[0m\u001b[1;33m\u001b[0m\u001b[1;33m\u001b[0m\u001b[0m\n\u001b[0m",
      "\u001b[1;31mValueError\u001b[0m: tuple.index(x): x not in tuple"
     ]
    }
   ],
   "source": [
    "i = tuple('HELLO WORLD')\n",
    "print(i,end='\\n\\n')                                            #string converted to tuple\n",
    "\n",
    "t14 = (1,2,45,34,23,89,54,23,78,11,90,45,11,11)\n",
    "s1 = 11\n",
    "print('The tuple is:',t14)\n",
    "print('Element found in index:',t14.index(s1),end='\\n\\n')      #search for the element in the tuple and return the index of\n",
    "                                                               #first instanceof the element.\n",
    "s2 = 23\n",
    "a = 5\n",
    "print('Element found in index:',t14.index(s2,a),end='\\n\\n')    #search for the element in the tuple after the index place and\n",
    "                                                               #return the index of the first instance of the element.\n",
    "s3 = 11\n",
    "b,c = 10,13\n",
    "print('Element found in index:',t14.index(s3,b,c),end='\\n\\n')  #search for the element in the tuple between the index places\n",
    "                                                               #and return the index of the first instance of the element.\n",
    "\n",
    "s4 = 0\n",
    "t14.index(s4)                                                  #raises ValueError if it is not present."
   ]
  },
  {
   "cell_type": "markdown",
   "metadata": {},
   "source": [
    "#### Write a program to do slicing of a tuple in all possible ways."
   ]
  },
  {
   "cell_type": "code",
   "execution_count": 8,
   "metadata": {},
   "outputs": [
    {
     "name": "stdout",
     "output_type": "stream",
     "text": [
      "(5, 23, 45, 67)\n",
      "(1, 2, 4, 5)\n",
      "(5, 23, 45, 67, 89, 10, 22, 34, 56, 20)\n",
      "(1, 2, 4, 5, 23, 45, 67, 89, 10, 22, 34, 56, 20)\n",
      "(10, 22, 34)\n",
      "('c', 'e', 'o', 'T')\n",
      "('W', 'm', ' ', 'T')\n",
      "('o', 'm')\n"
     ]
    }
   ],
   "source": [
    "t15 = (1,2,4,5,23,45,67,89,10,22,34,56,20)\n",
    "\n",
    "slice1 = t15[3:7]     #slice [start:stop] where start is start index and stop is (stop index + 1)\n",
    "print(slice1)\n",
    "\n",
    "slice2 = t15[:4]      #slice [:stop] where it starts from beginning and stop is (stop index + 1)\n",
    "print(slice2)\n",
    "\n",
    "slice3 = t15[3:]      #slice [start:] where start is start index and stops at the end\n",
    "print(slice3)\n",
    "\n",
    "slice4 = t15[:]       #slice[:] where it starts from beginning and stops at the end\n",
    "print(slice4)\n",
    "\n",
    "slice5 = t15[-5:-2]   #slice [start:stop] where start is starting backindex and stop is (stop backindex - 1\n",
    "print(slice5)\n",
    "\n",
    "t16 =  tuple('Welcome to STCET')\n",
    "slice6 = t16[3:13:3]  #slice [start:stop:step] where start is start index and stop is (stop index + 1) and step is \n",
    "                      #increment by index after each index value(jump)\n",
    "print(slice6)    \n",
    "\n",
    "slice7 = t16[::5]     #slice [::step] where it starts from beginning and stops at the end and step is \n",
    "                      #increment by index after each index value(jump)\n",
    "print(slice7)\n",
    "\n",
    "slice8 = t16[9:2:-4]  #slice [start:stop:step] where start is start index and stop is (stop index + 1) and step is \n",
    "                      #increment by index after each index value(jump)[Ib this case steps are negative so backjump will occur\n",
    "                      #and sliced from reverse]\n",
    "print(slice8)"
   ]
  },
  {
   "cell_type": "markdown",
   "metadata": {},
   "source": [
    "## Question 2"
   ]
  },
  {
   "cell_type": "markdown",
   "metadata": {},
   "source": [
    "#### Write a program to do linear or binary search. The choice will be provided by the user."
   ]
  },
  {
   "cell_type": "code",
   "execution_count": 12,
   "metadata": {},
   "outputs": [
    {
     "name": "stdout",
     "output_type": "stream",
     "text": [
      "Choose option:\n",
      "1.Linear search.\n",
      "2.Binary search.\n",
      "3.Exit.1\n",
      "Enter values separated by space:1 34 23 45 56 21 56 89 11 90 32 23 21 21\n",
      "Enter search element:21\n",
      "Element found at index 5\n",
      "Element found at index 12\n",
      "Element found at index 13\n",
      "Choose option:\n",
      "1.Linear search.\n",
      "2.Binary search.\n",
      "3.Exit.2\n",
      "Enter values separated by space:11 90 34 25 67 23 11 67 13 78\n",
      "Enter search element:11\n",
      "element found at index position  1\n",
      "Choose option:\n",
      "1.Linear search.\n",
      "2.Binary search.\n",
      "3.Exit.3\n"
     ]
    }
   ],
   "source": [
    "while(1):\n",
    "            \n",
    "    c = input('Choose option:\\n1.Linear search.\\n2.Binary search.\\n3.Exit.')\n",
    "    \n",
    "    if c == '1':\n",
    "        \n",
    "        tup = ()\n",
    "    \n",
    "        while(1):\n",
    "            try:\n",
    "                tup = tuple(map(int,input('Enter values separated by space:').split()))\n",
    "                break\n",
    "            except:\n",
    "                print('Wrong input.Try again.')\n",
    "        \n",
    "        s = 0\n",
    "            \n",
    "        while(1):\n",
    "            try:\n",
    "                s = int(input('Enter search element:'))\n",
    "                break\n",
    "            except:\n",
    "                print('Wrong input.Try Again.')\n",
    "        \n",
    "        found = False\n",
    "        for i,j in enumerate(tup):\n",
    "                    \n",
    "            if j == s:\n",
    "                print('Element found at index',i)\n",
    "                found = True\n",
    "        \n",
    "        if not found:\n",
    "            print('No such element is present.')\n",
    "            \n",
    "    elif c == '2':\n",
    "        \n",
    "        tup = ()\n",
    "    \n",
    "        while(1):\n",
    "            try:\n",
    "                tup = tuple(map(int,input('Enter values separated by space:').split()))\n",
    "                break\n",
    "            except:\n",
    "                print('Wrong input.Try again.')\n",
    "        \n",
    "        s = 0\n",
    "            \n",
    "        while(1):\n",
    "            try:\n",
    "                s = int(input('Enter search element:'))\n",
    "                break\n",
    "            except:\n",
    "                print('Wrong input.Try Again.')\n",
    "        \n",
    "        tup = tuple(sorted(tup))\n",
    "        low = 0\n",
    "        mid = 0\n",
    "        up = len(tup)-1\n",
    "        found = False\n",
    "        while not found and low<=up :\n",
    "            mid=(low+up)//2\n",
    "            if tup[mid] > s :\n",
    "                up=mid-1\n",
    "            elif tup[mid] < s :\n",
    "                low=mid+1\n",
    "            else :\n",
    "                found = True\n",
    "        if found :\n",
    "            print('element found at index position ', mid)\n",
    "        else :\n",
    "            print('element not found.')\n",
    "            \n",
    "    elif c == '3':\n",
    "        break\n",
    "        \n",
    "    else:\n",
    "        print('Wrong option. Try again.')"
   ]
  }
 ],
 "metadata": {
  "kernelspec": {
   "display_name": "Python 3",
   "language": "python",
   "name": "python3"
  },
  "language_info": {
   "codemirror_mode": {
    "name": "ipython",
    "version": 3
   },
   "file_extension": ".py",
   "mimetype": "text/x-python",
   "name": "python",
   "nbconvert_exporter": "python",
   "pygments_lexer": "ipython3",
   "version": "3.7.6"
  }
 },
 "nbformat": 4,
 "nbformat_minor": 4
}
