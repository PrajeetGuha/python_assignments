{
 "cells": [
  {
   "cell_type": "markdown",
   "metadata": {},
   "source": [
    "# Assignment on List,Tuple and Dictionary"
   ]
  },
  {
   "cell_type": "markdown",
   "metadata": {},
   "source": [
    "### Create a list of strings. Write a Python program which creates another list from the first taking the first character from each word."
   ]
  },
  {
   "cell_type": "code",
   "execution_count": 1,
   "metadata": {},
   "outputs": [
    {
     "name": "stdout",
     "output_type": "stream",
     "text": [
      "Enter elements of a list separated by comma:alpha,rat,cat,bat,stcet,airplane,crow,cat\n",
      "['a', 'r', 'c', 'b', 's', 'a', 'c', 'c']\n"
     ]
    }
   ],
   "source": [
    "while(1):\n",
    "    \n",
    "    try:\n",
    "        \n",
    "        s = input('Enter elements of a list separated by comma:').split(',')\n",
    "        first_letters = [ element[0] for element in s ]\n",
    "        print(first_letters)\n",
    "        break\n",
    "        \n",
    "    except:\n",
    "        \n",
    "        print('Wrong input. Try again.')"
   ]
  },
  {
   "cell_type": "markdown",
   "metadata": {},
   "source": [
    "### Write a Python program that prompts the user to enter an alphabet. Print all the words in the list that starts with that alphabet."
   ]
  },
  {
   "cell_type": "code",
   "execution_count": 2,
   "metadata": {},
   "outputs": [
    {
     "name": "stdout",
     "output_type": "stream",
     "text": [
      "Enter elements of a list separated by comma:alpha,rat,cat,bat,stcet,airplane,crow,cat\n",
      "Enter the first letter:c\n",
      "['cat', 'crow', 'cat']\n"
     ]
    }
   ],
   "source": [
    "while(1):\n",
    "    \n",
    "    try:\n",
    "        \n",
    "        s = input('Enter elements of a list separated by comma:').split(',')\n",
    "        c = input('Enter the first letter:').lower()\n",
    "        if len(c) != 1:\n",
    "            raise()\n",
    "            \n",
    "        lst = [ i for i in s if i.lower()[0] == c ]\n",
    "        print(lst)\n",
    "        break\n",
    "        \n",
    "    except:\n",
    "        \n",
    "        print('Wrong input. Try again.')"
   ]
  },
  {
   "cell_type": "markdown",
   "metadata": {},
   "source": [
    "### Write a program in Python to do slicing in all possible ways with all possible parameters, providing positive and negative values for step. Also, perform slicing from start and end both."
   ]
  },
  {
   "cell_type": "code",
   "execution_count": 3,
   "metadata": {},
   "outputs": [
    {
     "name": "stdout",
     "output_type": "stream",
     "text": [
      "(True, 1.23) [56, 12]\n",
      "(23, 1, 'hello', True, 1.23, 'c') [1, 3, 21, 56, 12, 34]\n",
      "('c',) [34, 1, 90, 'risotto', 1.69696, 'a']\n",
      "(23, 1, 'hello', True, 1.23, 'c') [1, 3, 21, 56, 12, 34, 1, 90, 'risotto', 1.69696, 'a']\n",
      "(23, 1) [56, 12, 34, 1]\n",
      "('hello', 1.23) [21, 12, 1, 'risotto']\n",
      "(23, 1.23) [1, 12, 'risotto']\n",
      "('c',) [1.69696, 34]\n"
     ]
    }
   ],
   "source": [
    "lst = [1,3,21,56,12,34,1,90,'risotto',1.69696,'a']\n",
    "tup = (23,1,'hello',True,1.23,'c')\n",
    "\n",
    "#used tuple[start:stop] the start index is inclusive and the stop index\n",
    "slice_t = tup[3:5]\n",
    "slice_l = lst[3:5]\n",
    "#is exclusive\n",
    "print(slice_t,slice_l)\n",
    "#if the start index isn't defined, is taken from the beg inning of the tuple\n",
    "slice_t = tup[:6]\n",
    "slice_l = lst[:6]\n",
    "print(slice_t,slice_l)\n",
    "#if the end index isn't defined, is taken until the end of the tuple\n",
    "slice_t = tup[5:]\n",
    "slice_l = lst[5:]\n",
    "print(slice_t,slice_l)\n",
    "#if neither is defined, returns the full tuple\n",
    "slice_t = tup[:]\n",
    "slice_l = lst[:]\n",
    "print(slice_t,slice_l)\n",
    "#The indexes can be defined with negative values\n",
    "slice_t = tup[-8:-4]\n",
    "slice_l = lst[-8:-4]\n",
    "print(slice_t,slice_l)\n",
    "\n",
    "#step specify an increment between the elements to cut of the tuple\n",
    "#tuple[start:stop:step]\n",
    "slice_t = tup[2:9:2]\n",
    "slice_l = lst[2:9:2]\n",
    "print(slice_t,slice_l)\n",
    "#returns a tuple with a jump every 3 items\n",
    "slice_t = tup[::4]\n",
    "slice_l = lst[::4]\n",
    "print(slice_t,slice_l)\n",
    "#when step is negative the jump is made back\n",
    "slice_t = tup[9:2:-4]\n",
    "slice_l = lst[9:2:-4]\n",
    "print(slice_t,slice_l)"
   ]
  },
  {
   "cell_type": "markdown",
   "metadata": {},
   "source": [
    "### Write a Python program to count the elements in a list until an element is a tuple."
   ]
  },
  {
   "cell_type": "code",
   "execution_count": 4,
   "metadata": {},
   "outputs": [
    {
     "name": "stdout",
     "output_type": "stream",
     "text": [
      "4\n"
     ]
    }
   ],
   "source": [
    "lst = [1,2,3,4,(5,6),7,8,('hello')]\n",
    "c = 0\n",
    "\n",
    "for i in lst:\n",
    "    \n",
    "    if isinstance(i,tuple):\n",
    "        break\n",
    "    else:\n",
    "        c += 1\n",
    "        \n",
    "print(c)"
   ]
  },
  {
   "cell_type": "markdown",
   "metadata": {},
   "source": [
    "### Write a Python program that displays information about an employee. Use nested dictionary to do this task."
   ]
  },
  {
   "cell_type": "code",
   "execution_count": 1,
   "metadata": {},
   "outputs": [
    {
     "name": "stdout",
     "output_type": "stream",
     "text": [
      "Number of employees:3\n",
      "Employee No. 1\n",
      "Enter name of the employee:Prajeet Guha\n",
      "Enter employee ID:12200119022\n",
      "Enter department of the employee:Computer Science\n",
      "Enter age of the employee:19\n",
      "Enter designation of the employee:CSE\n",
      "Enter gender of the employee:Male\n",
      "\n",
      "Employee is given the data ID:0\n",
      "Employee No. 2\n",
      "Enter name of the employee:Arnab Das\n",
      "Enter employee ID:12200119017\n",
      "Enter department of the employee:CSE\n",
      "Enter age of the employee:20\n",
      "Enter designation of the employee:BodyGuard\n",
      "Enter gender of the employee:Male\n",
      "\n",
      "Employee is given the data ID:1\n",
      "Employee No. 3\n",
      "Enter name of the employee:Madhurima Ranjit\n",
      "Enter employee ID:12200119048\n",
      "Enter department of the employee:CSE\n",
      "Enter age of the employee:18\n",
      "Enter designation of the employee:Gardener\n",
      "Enter gender of the employee:Female\n",
      "\n",
      "Employee is given the data ID:2\n",
      "Enter data ID for report:1\n",
      "Arnab Das is a Male employee of age 20.\n",
      "His employee ID is: 12200119017.\n",
      "The employee is designated as BodyGuard to the CSE department.\n"
     ]
    }
   ],
   "source": [
    "while(1):\n",
    "    \n",
    "    try:\n",
    "        \n",
    "        n = int(input('Number of employees:'))\n",
    "        d = {}\n",
    "        for i in range(n):\n",
    "            \n",
    "            employee = {}\n",
    "            print(f'Employee No. {i+1}')\n",
    "            employee['name'] = input('Enter name of the employee:')\n",
    "            employee['id'] = input('Enter employee ID:')\n",
    "            employee['department'] = input('Enter department of the employee:')\n",
    "            employee['age'] = int(input('Enter age of the employee:'))\n",
    "            employee['designation'] = input('Enter designation of the employee:')\n",
    "            employee['gender'] = input('Enter gender of the employee:')\n",
    "            \n",
    "            d[i] = employee\n",
    "            print(f'\\nEmployee is given the data ID:{i}')\n",
    "            \n",
    "        search = int(input('Enter data ID for report:'))\n",
    "        \n",
    "        print(f\"{d[search]['name']} is a {d[search]['gender']} employee of age {d[search]['age']}.\\nHis employee ID is: {d[search]['id']}.\\nThe employee is designated as {d[search]['designation']} to the {d[search]['department']} department.\")\n",
    "        break\n",
    "    \n",
    "    except:\n",
    "        print('Wrong input.')"
   ]
  },
  {
   "cell_type": "markdown",
   "metadata": {},
   "source": [
    "### Create a dictionary of products purchased and their MRPs. Calculate the bill and display to the customer."
   ]
  },
  {
   "cell_type": "code",
   "execution_count": 2,
   "metadata": {},
   "outputs": [
    {
     "name": "stdout",
     "output_type": "stream",
     "text": [
      "Product purchase list (format - item:cost-qnt,item:cost-qnt,.....):eggs:6-36,ham:200-5,mayo:100-1,cheese:400-3,cup noodles:500-2,cherries:12-50\n",
      "-------------------------------------------\n",
      "Items:\n",
      "\n",
      "\n",
      "Item name: eggs \n",
      "Quantity: 36 \n",
      "Cost per unit: 6 \n",
      "Total purchase value of the item: 216\n",
      "\n",
      "\n",
      "-------------\n",
      "Item name: ham \n",
      "Quantity: 5 \n",
      "Cost per unit: 200 \n",
      "Total purchase value of the item: 1000\n",
      "\n",
      "\n",
      "-------------\n",
      "Item name: mayo \n",
      "Quantity: 1 \n",
      "Cost per unit: 100 \n",
      "Total purchase value of the item: 100\n",
      "\n",
      "\n",
      "-------------\n",
      "Item name: cheese \n",
      "Quantity: 3 \n",
      "Cost per unit: 400 \n",
      "Total purchase value of the item: 1200\n",
      "\n",
      "\n",
      "-------------\n",
      "Item name: cup noodles \n",
      "Quantity: 2 \n",
      "Cost per unit: 500 \n",
      "Total purchase value of the item: 1000\n",
      "\n",
      "\n",
      "-------------\n",
      "Item name: cherries \n",
      "Quantity: 50 \n",
      "Cost per unit: 12 \n",
      "Total purchase value of the item: 600\n",
      "\n",
      "\n",
      "-------------\n",
      "Grand total:4116\n"
     ]
    }
   ],
   "source": [
    "while(1):\n",
    "    \n",
    "    try:\n",
    "        \n",
    "        bag = {}\n",
    "        tot = 0\n",
    "        s = input('Product purchase list (format - item:cost-qnt,item:cost-qnt,.....):').split(',')\n",
    "        for i in s:\n",
    "            \n",
    "            key,value = i.split(':')\n",
    "            cost,qnt = value.split('-')\n",
    "            bag[key] = {'cost':int(cost),'quantity':int(qnt)}\n",
    "         \n",
    "        print('-------------------------------------------\\nItems:\\n\\n')\n",
    "        for key in bag:\n",
    "            purchase = bag[key]['cost']*bag[key]['quantity']\n",
    "            print('Item name:',key,'\\nQuantity:',bag[key]['quantity'],'\\nCost per unit:',bag[key]['cost'],'\\nTotal purchase value of the item:',purchase,end='\\n\\n\\n-------------\\n')\n",
    "            tot += purchase\n",
    "            \n",
    "        print(f'Grand total:{tot}')\n",
    "        break\n",
    "        \n",
    "    except:\n",
    "        print('Wrong input.')"
   ]
  },
  {
   "cell_type": "markdown",
   "metadata": {},
   "source": [
    "### Write a program that has a dictionary of your friends’ name (as keys) and their birthdays. Print the items in the dictionary in a sorted order. Prompt the user to enter a name and check if it is present in the dictionary. If the name does not exist, then ask the user to enter DOB. Add the details in the dictionary."
   ]
  },
  {
   "cell_type": "code",
   "execution_count": 3,
   "metadata": {},
   "outputs": [
    {
     "name": "stdout",
     "output_type": "stream",
     "text": [
      "Birthday list (format - name:bd,name:bd,.....):(dt format: \"25 Jul 2002\")\n",
      "Wrong input.\n",
      "Birthday list (format - name:bd,name:bd,.....):(dt format: \"25 Jul 2002\")Honolulu:25 May 2001,Piranha:14 Feb 1980,Jam:16 Jun 2020\n",
      "Options:\n",
      "1.Sorted bd list.\n",
      "2.Search person.\n",
      "3.Exit.1\n",
      "Sorted dates:['14 Feb 1980', '25 May 2001', '16 Jun 2020']\n",
      "Options:\n",
      "1.Sorted bd list.\n",
      "2.Search person.\n",
      "3.Exit.2\n",
      "Search for person:Jam\n",
      "The DOB of Jam is 16 Jun 2020\n",
      "Options:\n",
      "1.Sorted bd list.\n",
      "2.Search person.\n",
      "3.Exit.2\n",
      "Search for person:Panwala\n",
      "The name is missing. Input DOB:(dt format: \"25 Jul 2002\")14 Jan 2001\n",
      "Options:\n",
      "1.Sorted bd list.\n",
      "2.Search person.\n",
      "3.Exit.1\n",
      "Sorted dates:['14 Feb 1980', '14 Jan 2001', '25 May 2001', '16 Jun 2020']\n",
      "Options:\n",
      "1.Sorted bd list.\n",
      "2.Search person.\n",
      "3.Exit.3\n"
     ]
    }
   ],
   "source": [
    "from datetime import datetime\n",
    "\n",
    "while(1):\n",
    "    \n",
    "    try:\n",
    "        bd_list = {}\n",
    "        s = input('Birthday list (format - name:bd,name:bd,.....):(dt format: \"25 Jul 2002\")').split(',')\n",
    "        \n",
    "        for i in s:\n",
    "            \n",
    "            key,value = i.split(':')\n",
    "            key = key.lower()\n",
    "            bd_list[key] = value\n",
    "            \n",
    "        end = False\n",
    "            \n",
    "        while not end:\n",
    "            \n",
    "            c = input('Options:\\n1.Sorted bd list.\\n2.Search person.\\n3.Exit.')\n",
    "            \n",
    "            if c == '1':\n",
    "                \n",
    "                lst = list(bd_list.values())\n",
    "                lst.sort(key = lambda date: datetime.strptime(date,'%d %b %Y'))\n",
    "                \n",
    "                print(f'Sorted dates:{lst}')\n",
    "                \n",
    "            elif c == '2':\n",
    "                \n",
    "                search = input('Search for person:').lower()\n",
    "                if bd_list.get(search) == None:\n",
    "                    bd_list[search] = input('The name is missing. Input DOB:(dt format: \"25 Jul 2002\")')\n",
    "                else:\n",
    "                    print(f'The DOB of {search.title()} is {bd_list[search]}')\n",
    "                    \n",
    "            elif c == '3':\n",
    "                end = True\n",
    "                \n",
    "            else:\n",
    "                print('Wrong option.')\n",
    "                \n",
    "        break\n",
    "        \n",
    "    except:\n",
    "        print('Wrong input.')"
   ]
  }
 ],
 "metadata": {
  "kernelspec": {
   "display_name": "Python 3",
   "language": "python",
   "name": "python3"
  },
  "language_info": {
   "codemirror_mode": {
    "name": "ipython",
    "version": 3
   },
   "file_extension": ".py",
   "mimetype": "text/x-python",
   "name": "python",
   "nbconvert_exporter": "python",
   "pygments_lexer": "ipython3",
   "version": "3.7.6"
  }
 },
 "nbformat": 4,
 "nbformat_minor": 4
}
